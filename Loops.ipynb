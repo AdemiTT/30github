{
 "cells": [
  {
   "cell_type": "markdown",
   "id": "c0a05ee0",
   "metadata": {},
   "source": [
    "### The while loop"
   ]
  },
  {
   "cell_type": "code",
   "execution_count": null,
   "id": "607c7f6b",
   "metadata": {
    "scrolled": true
   },
   "outputs": [],
   "source": [
    "i=0\n",
    "while i<10:\n",
    "    print(i)\n",
    "    i=i+1"
   ]
  },
  {
   "cell_type": "code",
   "execution_count": null,
   "id": "d1f5cbfe",
   "metadata": {},
   "outputs": [],
   "source": [
    "# run 1\n",
    "while 0<10:\n",
    "    print(0)\n",
    "    i=0+1\n",
    "    \n",
    "\n",
    "#...  \n",
    "#run 9 \n",
    "while 9<10:\n",
    "    print(9)\n",
    "    i=9+1\n",
    "\n",
    "#run 10    \n",
    "while 10<10:\n",
    "    print(i)\n",
    "    i=i+1"
   ]
  },
  {
   "cell_type": "code",
   "execution_count": null,
   "id": "1f1f3ccc",
   "metadata": {},
   "outputs": [],
   "source": [
    "i=0\n",
    "while i<10:\n",
    "    if i==5:\n",
    "        i=i+1\n",
    "        break\n",
    "    print(i)\n",
    "    i=i+1"
   ]
  },
  {
   "cell_type": "code",
   "execution_count": null,
   "id": "0488469a",
   "metadata": {},
   "outputs": [],
   "source": [
    "i=0\n",
    "while i<10:\n",
    "    print(i)\n",
    "    i=i+1\n",
    "else:\n",
    "    print('The loop is done!')"
   ]
  },
  {
   "cell_type": "code",
   "execution_count": null,
   "id": "31de7d60",
   "metadata": {},
   "outputs": [],
   "source": [
    "i=0\n",
    "while i<10:\n",
    "    if i==5:\n",
    "        i=i+1\n",
    "        break\n",
    "    print(i)\n",
    "    i=i+1\n",
    "else:\n",
    "    print('The loop is done!')"
   ]
  },
  {
   "cell_type": "code",
   "execution_count": null,
   "id": "ac830833",
   "metadata": {},
   "outputs": [],
   "source": [
    "i=0\n",
    "while i<10:\n",
    "    if i==5:\n",
    "        i=i+1\n",
    "        continue\n",
    "    print(i)\n",
    "    i=i+1\n",
    "else:\n",
    "    print('The loop is done!')"
   ]
  },
  {
   "cell_type": "code",
   "execution_count": null,
   "id": "45b5f1c5",
   "metadata": {},
   "outputs": [],
   "source": [
    "#7394\n",
    "\n",
    "print(7394%10)\n",
    "print(7394//10)\n",
    "print(739%10)"
   ]
  },
  {
   "cell_type": "code",
   "execution_count": null,
   "id": "ad5683a2",
   "metadata": {},
   "outputs": [],
   "source": [
    "def deconstruct(num):\n",
    "    while num > 0:\n",
    "        print(num%10)\n",
    "        num=num//10\n",
    "    else:\n",
    "        print('Your number has been deconstructed!')"
   ]
  },
  {
   "cell_type": "code",
   "execution_count": null,
   "id": "97dae86b",
   "metadata": {},
   "outputs": [],
   "source": [
    "deconstruct(123)"
   ]
  },
  {
   "cell_type": "code",
   "execution_count": null,
   "id": "b06325d5",
   "metadata": {},
   "outputs": [],
   "source": [
    "num[0], num[5]"
   ]
  },
  {
   "cell_type": "markdown",
   "id": "f2e8e05f",
   "metadata": {},
   "source": [
    "### Using time"
   ]
  },
  {
   "cell_type": "code",
   "execution_count": null,
   "id": "2786c6a4",
   "metadata": {},
   "outputs": [],
   "source": [
    "import time\n",
    "t = time.localtime(time.time())\n",
    "print('Seconds:', t.tm_sec)\n",
    "print('Minute:', t.tm_min)\n",
    "print('Hour:', t.tm_hour)"
   ]
  },
  {
   "cell_type": "markdown",
   "id": "205bc6ae",
   "metadata": {},
   "source": [
    "### Breaking it down"
   ]
  },
  {
   "cell_type": "code",
   "execution_count": null,
   "id": "c6f66d28",
   "metadata": {},
   "outputs": [],
   "source": [
    "iterations=0\n",
    "while interations<10:\n",
    "    interations=interations+1\n",
    "    print(interations)"
   ]
  },
  {
   "cell_type": "markdown",
   "id": "68bdb6a8",
   "metadata": {},
   "source": [
    "### While loop recap\n",
    "keywords:\n",
    "- while\n",
    "- continue\n",
    "- break\n",
    "- else"
   ]
  },
  {
   "cell_type": "code",
   "execution_count": null,
   "id": "6889d4f1",
   "metadata": {},
   "outputs": [],
   "source": [
    "i = 10\n",
    "while i>=0:\n",
    "    if i==5:\n",
    "        i=i-1\n",
    "        continue\n",
    "    elif i==3:\n",
    "        break\n",
    "    else:\n",
    "        print(i)\n",
    "        i=i-1\n",
    "else:\n",
    "    print('The loop is done running!')"
   ]
  },
  {
   "cell_type": "code",
   "execution_count": null,
   "id": "e14fde66",
   "metadata": {},
   "outputs": [],
   "source": [
    "i = 10\n",
    "while i>=0:\n",
    "    print(i)\n",
    "    i=i-1\n",
    "else:\n",
    "    print('The loop is done running!')"
   ]
  },
  {
   "cell_type": "code",
   "execution_count": null,
   "id": "9bbafc6d",
   "metadata": {},
   "outputs": [],
   "source": [
    "# warm-up\n",
    "# print all even numbers between 0 and 50 using a while loop"
   ]
  },
  {
   "cell_type": "markdown",
   "id": "6e32667b",
   "metadata": {},
   "source": [
    "### The alarm clock"
   ]
  },
  {
   "cell_type": "code",
   "execution_count": null,
   "id": "325c97e4",
   "metadata": {},
   "outputs": [],
   "source": [
    "import time\n",
    "t = time.localtime(time.time())\n",
    "print('Seconds:', t.tm_sec)\n",
    "print('Minute:', t.tm_min)\n",
    "print('Hour:', t.tm_hour)"
   ]
  },
  {
   "cell_type": "code",
   "execution_count": null,
   "id": "fd5fc48e",
   "metadata": {},
   "outputs": [],
   "source": [
    "i=0\n",
    "while i<10:\n",
    "    time.sleep(0.5)\n",
    "    print(i)\n",
    "    i=i+1"
   ]
  },
  {
   "cell_type": "code",
   "execution_count": null,
   "id": "62208d1a",
   "metadata": {},
   "outputs": [],
   "source": [
    "#possible solution \n",
    "\n",
    "h = int(input('hours '))\n",
    "m = int(input('minutes '))\n",
    "s = int(input('seconds '))\n",
    "\n",
    "while True:\n",
    "    t = time.localtime(time.time())\n",
    "    if h == t.tm_hour and m == t.tm_min and s == t.tm_sec:\n",
    "        print('Time is UP!')\n",
    "        break"
   ]
  },
  {
   "cell_type": "markdown",
   "id": "8aad1a93",
   "metadata": {},
   "source": [
    "### For Loops\n",
    "keywords:\n",
    "- for\n",
    "- continue\n",
    "- break\n",
    "- else\n",
    "- pass"
   ]
  },
  {
   "cell_type": "code",
   "execution_count": 1,
   "id": "94cfea10",
   "metadata": {},
   "outputs": [],
   "source": [
    "#with strings\n",
    "name_list=['adele','billy','cathy']"
   ]
  },
  {
   "cell_type": "code",
   "execution_count": 2,
   "id": "9636134e",
   "metadata": {},
   "outputs": [
    {
     "name": "stdout",
     "output_type": "stream",
     "text": [
      "Hello adele\n",
      "Hello billy\n",
      "Hello cathy\n"
     ]
    }
   ],
   "source": [
    "for random_variable in name_list:\n",
    "    print('Hello', random_variable)"
   ]
  },
  {
   "cell_type": "code",
   "execution_count": null,
   "id": "ba2f308f",
   "metadata": {},
   "outputs": [],
   "source": [
    "# with integers\n",
    "num_list=[0,1,2,3,4,5]"
   ]
  },
  {
   "cell_type": "code",
   "execution_count": null,
   "id": "2fe0c140",
   "metadata": {},
   "outputs": [],
   "source": [
    "for num_var in num_list:\n",
    "    print(num_var**2)"
   ]
  },
  {
   "cell_type": "code",
   "execution_count": null,
   "id": "2f0cf1dc",
   "metadata": {},
   "outputs": [],
   "source": [
    "num_tupple=(0,1,2,3,4,5)"
   ]
  },
  {
   "cell_type": "code",
   "execution_count": null,
   "id": "6af57470",
   "metadata": {},
   "outputs": [],
   "source": [
    "for num_var in num_tupple:\n",
    "    print(num_var**2)"
   ]
  },
  {
   "cell_type": "code",
   "execution_count": null,
   "id": "03a97ed3",
   "metadata": {},
   "outputs": [],
   "source": [
    "print(range(10))"
   ]
  },
  {
   "cell_type": "code",
   "execution_count": null,
   "id": "1bdbe4d6",
   "metadata": {},
   "outputs": [],
   "source": [
    "(0,1,2,3,4,5,6,7,8,9)"
   ]
  },
  {
   "cell_type": "code",
   "execution_count": 10,
   "id": "8279ecb3",
   "metadata": {},
   "outputs": [
    {
     "name": "stdout",
     "output_type": "stream",
     "text": [
      "1\n",
      "4\n",
      "7\n"
     ]
    }
   ],
   "source": [
    "for num in range(1,10,3):\n",
    "    print(num)"
   ]
  },
  {
   "cell_type": "markdown",
   "id": "428299c4",
   "metadata": {},
   "source": [
    "### The car factory!"
   ]
  },
  {
   "cell_type": "code",
   "execution_count": 11,
   "id": "09f61192",
   "metadata": {
    "scrolled": true
   },
   "outputs": [
    {
     "name": "stdout",
     "output_type": "stream",
     "text": [
      "blue SUV\n",
      "red SUV\n",
      "white SUV\n",
      "blue sedan\n",
      "red sedan\n",
      "white sedan\n",
      "blue truck\n",
      "red truck\n",
      "white truck\n"
     ]
    }
   ],
   "source": [
    "car_type=['SUV','sedan','truck']\n",
    "car_colour=['blue','red','white']\n",
    "\n",
    "for model in car_type:\n",
    "    for colour in car_colour:\n",
    "        print(colour, model)"
   ]
  },
  {
   "cell_type": "code",
   "execution_count": null,
   "id": "14b8375a",
   "metadata": {},
   "outputs": [],
   "source": [
    "def my_func(*numbers)"
   ]
  },
  {
   "cell_type": "code",
   "execution_count": 12,
   "id": "f0991492",
   "metadata": {},
   "outputs": [
    {
     "name": "stdout",
     "output_type": "stream",
     "text": [
      "1\n",
      "22\n",
      "333\n",
      "4444\n",
      "55555\n"
     ]
    }
   ],
   "source": [
    "for i in range(1,6):\n",
    "    print(str(i)*i)"
   ]
  },
  {
   "cell_type": "code",
   "execution_count": null,
   "id": "4982dd17",
   "metadata": {},
   "outputs": [],
   "source": []
  }
 ],
 "metadata": {
  "kernelspec": {
   "display_name": "Python 3 (ipykernel)",
   "language": "python",
   "name": "python3"
  },
  "language_info": {
   "codemirror_mode": {
    "name": "ipython",
    "version": 3
   },
   "file_extension": ".py",
   "mimetype": "text/x-python",
   "name": "python",
   "nbconvert_exporter": "python",
   "pygments_lexer": "ipython3",
   "version": "3.9.7"
  }
 },
 "nbformat": 4,
 "nbformat_minor": 5
}
