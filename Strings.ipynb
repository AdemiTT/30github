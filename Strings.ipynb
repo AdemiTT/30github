{
 "cells": [
  {
   "cell_type": "code",
   "execution_count": 1,
   "id": "d0831bec",
   "metadata": {},
   "outputs": [],
   "source": [
    "my_word='serpant'"
   ]
  },
  {
   "cell_type": "code",
   "execution_count": null,
   "id": "30d6165a",
   "metadata": {},
   "outputs": [],
   "source": [
    "['s','e','r','p','a','n','t']"
   ]
  },
  {
   "cell_type": "code",
   "execution_count": 5,
   "id": "a853b78f",
   "metadata": {},
   "outputs": [
    {
     "name": "stdout",
     "output_type": "stream",
     "text": [
      "True\n"
     ]
    }
   ],
   "source": [
    "print('t' in my_word)"
   ]
  },
  {
   "cell_type": "code",
   "execution_count": 3,
   "id": "585bcdc1",
   "metadata": {},
   "outputs": [],
   "source": [
    "colours=('blue','green','magenta')"
   ]
  },
  {
   "cell_type": "code",
   "execution_count": 4,
   "id": "028d7457",
   "metadata": {},
   "outputs": [
    {
     "name": "stdout",
     "output_type": "stream",
     "text": [
      "True\n"
     ]
    }
   ],
   "source": [
    "print('blue' in colours)"
   ]
  },
  {
   "cell_type": "markdown",
   "id": "8967c4fb",
   "metadata": {},
   "source": [
    "### String methods"
   ]
  },
  {
   "cell_type": "code",
   "execution_count": null,
   "id": "20f811e7",
   "metadata": {},
   "outputs": [],
   "source": [
    "a.upper()\n",
    "a.lower()\n",
    "Remove whitespace\n",
    "a.strip()\n",
    "a.replace(‘this’, ‘that’)\n",
    "a.split(separator)"
   ]
  },
  {
   "cell_type": "code",
   "execution_count": 7,
   "id": "da6706e8",
   "metadata": {},
   "outputs": [
    {
     "name": "stdout",
     "output_type": "stream",
     "text": [
      "SERPANT\n"
     ]
    }
   ],
   "source": [
    "print(my_word.upper())"
   ]
  },
  {
   "cell_type": "code",
   "execution_count": 1,
   "id": "715d141c",
   "metadata": {},
   "outputs": [],
   "source": [
    "my_lyrics='''\n",
    "\n",
    "\n",
    "\n",
    "People of the USA (everybody)\n",
    "Hop on (join)\n",
    "Hop the Trump train, Trump train\n",
    "People of the USA (USA, now)\n",
    "Hop on (Trump ride)\n",
    "Hop the Trump train (Trump ride), Trump train\n",
    "The next stop that we make will be Michigan\n",
    "\n",
    "'''"
   ]
  },
  {
   "cell_type": "code",
   "execution_count": 14,
   "id": "156a639a",
   "metadata": {},
   "outputs": [
    {
     "name": "stdout",
     "output_type": "stream",
     "text": [
      "\n",
      "PEOPLE OF THE USA (EVERYBODY)\n",
      "HOP ON (JOIN)\n",
      "HOP THE TRUMP TRAIN, TRUMP TRAIN\n",
      "PEOPLE OF THE USA (USA, NOW)\n",
      "HOP ON (TRUMP RIDE)\n",
      "HOP THE TRUMP TRAIN (TRUMP RIDE), TRUMP TRAIN\n",
      "THE NEXT STOP THAT WE MAKE WILL BE MICHIGAN\n",
      "\n",
      "\n"
     ]
    }
   ],
   "source": [
    "print(my_lyrics.upper())"
   ]
  },
  {
   "cell_type": "code",
   "execution_count": 15,
   "id": "c3de15c2",
   "metadata": {},
   "outputs": [
    {
     "name": "stdout",
     "output_type": "stream",
     "text": [
      "\n",
      "people of the usa (everybody)\n",
      "hop on (join)\n",
      "hop the trump train, trump train\n",
      "people of the usa (usa, now)\n",
      "hop on (trump ride)\n",
      "hop the trump train (trump ride), trump train\n",
      "the next stop that we make will be michigan\n",
      "\n",
      "\n"
     ]
    }
   ],
   "source": [
    "print(my_lyrics.lower())"
   ]
  },
  {
   "cell_type": "code",
   "execution_count": 16,
   "id": "3c85297a",
   "metadata": {},
   "outputs": [
    {
     "name": "stdout",
     "output_type": "stream",
     "text": [
      "People of the USA (everybody)\n",
      "Hop on (join)\n",
      "Hop the Trump train, Trump train\n",
      "People of the USA (USA, now)\n",
      "Hop on (Trump ride)\n",
      "Hop the Trump train (Trump ride), Trump train\n",
      "The next stop that we make will be Michigan\n"
     ]
    }
   ],
   "source": [
    "print(my_lyrics.strip())"
   ]
  },
  {
   "cell_type": "code",
   "execution_count": 17,
   "id": "15aa298d",
   "metadata": {},
   "outputs": [
    {
     "name": "stdout",
     "output_type": "stream",
     "text": [
      "\n",
      "People of the USA (everybody)\n",
      "Hop on (join)\n",
      "Hop the Trump train, Trump train\n",
      "People of the USA (USA, now)\n",
      "Hop on (Trump ride)\n",
      "Hop the Trump train (Trump ride), Trump train\n",
      "The next stop that we make will be Michigan\n",
      "\n",
      "\n"
     ]
    }
   ],
   "source": [
    "print(my_lyrics.strip('e'))"
   ]
  },
  {
   "cell_type": "code",
   "execution_count": 23,
   "id": "236b7f2b",
   "metadata": {},
   "outputs": [
    {
     "name": "stdout",
     "output_type": "stream",
     "text": [
      "eople of the USA (everybody)\n",
      "Hop on (join)\n",
      "Hop the Trump train, Trump train\n",
      "People of the USA (USA, now)\n",
      "Hop on (Trump ride)\n",
      "Hop the Trump train (Trump ride), Trump train\n",
      "The next stop that we make will be Michigan\n",
      "\n",
      "\n"
     ]
    }
   ],
   "source": [
    "print(my_lyrics.strip('P'))"
   ]
  },
  {
   "cell_type": "code",
   "execution_count": 3,
   "id": "68cd8c83",
   "metadata": {},
   "outputs": [
    {
     "name": "stdout",
     "output_type": "stream",
     "text": [
      "People of the USA (everybody)\n",
      "Hop on (join)\n",
      "Hop the Trump train, Trump train\n",
      "People of the USA (USA, now)\n",
      "Hop on (Trump ride)\n",
      "Hop the Trump train (Trump ride), Trump train\n",
      "The next stop that we make will be Michigan\n"
     ]
    }
   ],
   "source": [
    "print(my_lyrics.strip())"
   ]
  },
  {
   "cell_type": "code",
   "execution_count": 6,
   "id": "303fbedc",
   "metadata": {},
   "outputs": [
    {
     "name": "stdout",
     "output_type": "stream",
     "text": [
      "\n",
      "\n",
      "\n",
      "\n",
      "People of the USA (everybody)\n",
      "Hop on (join)\n",
      "Hop the Saiid train, Saiid train\n",
      "People of the USA (USA, now)\n",
      "Hop on (Saiid ride)\n",
      "Hop the Saiid train (Saiid ride), Saiid train\n",
      "The next stop that we make will be Michigan\n",
      "\n",
      "\n"
     ]
    }
   ],
   "source": [
    "print(my_lyrics.replace('Trump', 'Saiid'))"
   ]
  },
  {
   "cell_type": "code",
   "execution_count": 25,
   "id": "7742482c",
   "metadata": {},
   "outputs": [
    {
     "name": "stdout",
     "output_type": "stream",
     "text": [
      "['People', 'of', 'the', 'USA', '(everybody)', 'Hop', 'on', '(join)', 'Hop', 'the', 'Trump', 'train,', 'Trump', 'train', 'People', 'of', 'the', 'USA', '(USA,', 'now)', 'Hop', 'on', '(Trump', 'ride)', 'Hop', 'the', 'Trump', 'train', '(Trump', 'ride),', 'Trump', 'train', 'The', 'next', 'stop', 'that', 'we', 'make', 'will', 'be', 'Michigan']\n"
     ]
    }
   ],
   "source": [
    "print(my_lyrics.split())"
   ]
  },
  {
   "cell_type": "code",
   "execution_count": 26,
   "id": "fe049cd8",
   "metadata": {},
   "outputs": [
    {
     "name": "stdout",
     "output_type": "stream",
     "text": [
      "41\n"
     ]
    }
   ],
   "source": [
    "print(len(my_lyrics.split()))"
   ]
  },
  {
   "cell_type": "code",
   "execution_count": 7,
   "id": "208b5950",
   "metadata": {},
   "outputs": [
    {
     "name": "stdout",
     "output_type": "stream",
     "text": [
      "thisthat\n"
     ]
    }
   ],
   "source": [
    "print('this'+'that')"
   ]
  },
  {
   "cell_type": "code",
   "execution_count": 8,
   "id": "decf0369",
   "metadata": {},
   "outputs": [
    {
     "name": "stdout",
     "output_type": "stream",
     "text": [
      "4\n"
     ]
    }
   ],
   "source": [
    "print(2+2)"
   ]
  },
  {
   "cell_type": "code",
   "execution_count": 9,
   "id": "3e1b535b",
   "metadata": {},
   "outputs": [
    {
     "name": "stdout",
     "output_type": "stream",
     "text": [
      "22\n"
     ]
    }
   ],
   "source": [
    "print('2'+'2')"
   ]
  },
  {
   "cell_type": "code",
   "execution_count": 10,
   "id": "02a627b8",
   "metadata": {},
   "outputs": [
    {
     "name": "stdout",
     "output_type": "stream",
     "text": [
      "Mary, Bob, and Sarah went to ride scouters!\n"
     ]
    }
   ],
   "source": [
    "print('Mary, Bob, and Sarah went to ride scouters!')"
   ]
  },
  {
   "cell_type": "code",
   "execution_count": 16,
   "id": "0b8516cb",
   "metadata": {},
   "outputs": [
    {
     "name": "stdout",
     "output_type": "stream",
     "text": [
      "Mary, Bob, and Sarah went to ride scouters!\n"
     ]
    }
   ],
   "source": [
    "print('{0}, {1}, and {2} went to ride scouters!'.format('Mary', 'Bob', 'Sarah','Reegan'))"
   ]
  },
  {
   "cell_type": "code",
   "execution_count": 17,
   "id": "bfa83905",
   "metadata": {},
   "outputs": [
    {
     "name": "stdout",
     "output_type": "stream",
     "text": [
      "Mary\n",
      "Bob\n",
      "Sarah\n"
     ]
    }
   ],
   "source": [
    "name1=input()\n",
    "name2=input()\n",
    "name3=input()"
   ]
  },
  {
   "cell_type": "code",
   "execution_count": 19,
   "id": "3abe9249",
   "metadata": {},
   "outputs": [
    {
     "name": "stdout",
     "output_type": "stream",
     "text": [
      "Mary , Bob , and Sarah went to ride scouters!\n"
     ]
    }
   ],
   "source": [
    "print(name1,',',name2,', and', name3, 'went to ride scouters!')"
   ]
  },
  {
   "cell_type": "code",
   "execution_count": null,
   "id": "b80e6d29",
   "metadata": {},
   "outputs": [],
   "source": [
    "print(name1 + ',' + name2 +', and' + name3, '')"
   ]
  },
  {
   "cell_type": "code",
   "execution_count": 18,
   "id": "a51db378",
   "metadata": {},
   "outputs": [
    {
     "name": "stdout",
     "output_type": "stream",
     "text": [
      "Mary, Bob, and Sarah went to ride scouters!\n"
     ]
    }
   ],
   "source": [
    "print('{0}, {1}, and {2} went to ride scouters!'.format(name1,name2,name3))"
   ]
  },
  {
   "cell_type": "code",
   "execution_count": null,
   "id": "6e3b923c",
   "metadata": {},
   "outputs": [],
   "source": [
    "num1=input\n",
    "num2=input"
   ]
  },
  {
   "cell_type": "code",
   "execution_count": null,
   "id": "20e3d20f",
   "metadata": {},
   "outputs": [],
   "source": [
    "print(len(my_lyrics.split()))"
   ]
  },
  {
   "cell_type": "code",
   "execution_count": null,
   "id": "2c461928",
   "metadata": {},
   "outputs": [],
   "source": [
    "# song_word_count(lyrics)\n",
    "# return dict\n",
    "\n",
    "{\n",
    "    'People':5,\n",
    "    'USA':10,\n",
    "    'Trump':7\n",
    "}"
   ]
  },
  {
   "cell_type": "markdown",
   "id": "82807a9b",
   "metadata": {},
   "source": [
    "### Ceasar Encryption"
   ]
  },
  {
   "cell_type": "code",
   "execution_count": 27,
   "id": "73f46d95",
   "metadata": {},
   "outputs": [],
   "source": [
    "secret_message='This is a secret message!'"
   ]
  },
  {
   "cell_type": "code",
   "execution_count": null,
   "id": "5e438657",
   "metadata": {},
   "outputs": [],
   "source": [
    "encrypted_message='Vjku'"
   ]
  },
  {
   "cell_type": "code",
   "execution_count": null,
   "id": "83580c68",
   "metadata": {},
   "outputs": [],
   "source": [
    "cesar_encryption(message_to_encrypt, encryption_type=2)"
   ]
  },
  {
   "cell_type": "markdown",
   "id": "f5d1eb9e",
   "metadata": {},
   "source": [
    "### Song lyrics word count"
   ]
  },
  {
   "cell_type": "code",
   "execution_count": 31,
   "id": "09832533",
   "metadata": {},
   "outputs": [
    {
     "name": "stdout",
     "output_type": "stream",
     "text": [
      "['Little', 'bird', 'on', 'the', 'window', 'sill', 'Sing', 'your', 'sweetest', 'song', 'until', 'All', 'the', 'world', 'can', 'hear', 'your', 'joy', 'Fly', 'away,', 'little', 'bird,', 'fly']\n",
      "\n",
      "{'Little': 1, 'bird': 1, 'on': 1, 'the': 2, 'window': 1, 'sill': 1, 'Sing': 1, 'your': 2, 'sweetest': 1, 'song': 1, 'until': 1, 'All': 1, 'world': 1, 'can': 1, 'hear': 1, 'joy': 1, 'Fly': 1, 'away,': 1, 'little': 1, 'bird,': 1, 'fly': 1}\n"
     ]
    }
   ],
   "source": [
    "def word_in_lyric(lyric, word_of_interest):\n",
    "    word = lyric.split()\n",
    "    print(word)\n",
    "    word_lyric = {}\n",
    "    for i in word:\n",
    "        if i in word_lyric:\n",
    "            word_lyric[i] += 1\n",
    "        else:\n",
    "            word_lyric[i] = 1\n",
    "    print()\n",
    "    return word_lyric[word_of_interest]\n",
    "lyric = \"\"\"Little bird on the window sill\n",
    "    Sing your sweetest song until\n",
    "    All the world can hear your joy\n",
    "    Fly away, little bird, fly \"\"\"\n",
    "print(word_in_lyric(lyric))"
   ]
  },
  {
   "cell_type": "code",
   "execution_count": 36,
   "id": "4fd68585",
   "metadata": {},
   "outputs": [],
   "source": [
    "def word_in_lyric(lyric):\n",
    "    word = lyric.split()\n",
    "    print(word)\n",
    "    word_lyric = {}\n",
    "    word_lyric['bird']=0\n",
    "    for i in word:\n",
    "        if i == 'bird':\n",
    "            word_lyric['bird'] += 1\n",
    "    print()\n",
    "    return word_lyric"
   ]
  },
  {
   "cell_type": "code",
   "execution_count": 38,
   "id": "6766c527",
   "metadata": {},
   "outputs": [
    {
     "name": "stdout",
     "output_type": "stream",
     "text": [
      "['Little', 'bird', 'on', 'the', 'window', 'sill', 'Sing', 'your', 'sweetest', 'song', 'until', 'All', 'the', 'world', 'can', 'hear', 'your', 'joy', 'Fly', 'away,', 'little', 'bird,', 'fly']\n",
      "\n",
      "{'bird': 1}\n"
     ]
    }
   ],
   "source": [
    "print(word_in_lyric(lyric))"
   ]
  },
  {
   "cell_type": "markdown",
   "id": "f145bc14",
   "metadata": {},
   "source": [
    "### File I/O"
   ]
  },
  {
   "cell_type": "code",
   "execution_count": 33,
   "id": "34c9807b",
   "metadata": {},
   "outputs": [],
   "source": [
    "f = open('itsyou.txt', 'rt')"
   ]
  },
  {
   "cell_type": "code",
   "execution_count": 26,
   "id": "edbc2cac",
   "metadata": {},
   "outputs": [
    {
     "name": "stdout",
     "output_type": "stream",
     "text": [
      "<class '_io.TextIOWrapper'>\n"
     ]
    }
   ],
   "source": [
    "print(type(f))"
   ]
  },
  {
   "cell_type": "code",
   "execution_count": 31,
   "id": "0377a993",
   "metadata": {},
   "outputs": [
    {
     "name": "stdout",
     "output_type": "stream",
     "text": [
      "It's you, it's always you\n",
      "\n"
     ]
    }
   ],
   "source": [
    "print(f.readline())"
   ]
  },
  {
   "cell_type": "code",
   "execution_count": 32,
   "id": "8b231d4c",
   "metadata": {},
   "outputs": [
    {
     "name": "stdout",
     "output_type": "stream",
     "text": [
      "If I'm ever gonna fall in love\n",
      "\n"
     ]
    }
   ],
   "source": [
    "print(f.readline())"
   ]
  },
  {
   "cell_type": "code",
   "execution_count": 34,
   "id": "51c37d1e",
   "metadata": {},
   "outputs": [
    {
     "name": "stdout",
     "output_type": "stream",
     "text": [
      "[\"It's you, it's always you\\n\", \"If I'm ever gonna fall in love\\n\", \"I know it's gon' be you\\n\", \"It's you, it's always you\\n\", 'Met a lot of people, but nobody feels like you\\n', \"So, please don't break my heart\\n\", \"Don't tear me apart\"]\n"
     ]
    }
   ],
   "source": [
    "print(f.readlines())"
   ]
  },
  {
   "cell_type": "code",
   "execution_count": 25,
   "id": "41c217d1",
   "metadata": {},
   "outputs": [
    {
     "name": "stdout",
     "output_type": "stream",
     "text": [
      "It's you, it's always you\n",
      "If I'm ever gonna fall in love\n",
      "I know it's gon' be you\n",
      "It's you, it's always you\n",
      "Met a lot of people, but nobody feels like you\n",
      "So, please don't break my heart\n",
      "Don't tear me apart\n"
     ]
    }
   ],
   "source": [
    "print(f.read())"
   ]
  },
  {
   "cell_type": "code",
   "execution_count": 35,
   "id": "2c57cee6",
   "metadata": {},
   "outputs": [],
   "source": [
    "f = open('itsyou.txt', 'rt')"
   ]
  },
  {
   "cell_type": "code",
   "execution_count": 36,
   "id": "3fe96d1f",
   "metadata": {},
   "outputs": [],
   "source": [
    "lyrics=f.read()"
   ]
  },
  {
   "cell_type": "code",
   "execution_count": 37,
   "id": "c1f48d38",
   "metadata": {},
   "outputs": [
    {
     "name": "stdout",
     "output_type": "stream",
     "text": [
      "It's you, it's always you\n",
      "If I'm ever gonna fall in love\n",
      "I know it's gon' be you\n",
      "It's you, it's always you\n",
      "Met a lot of people, but nobody feels like you\n",
      "So, please don't break my heart\n",
      "Don't tear me apart\n"
     ]
    }
   ],
   "source": [
    "print(lyrics)"
   ]
  },
  {
   "cell_type": "code",
   "execution_count": 40,
   "id": "3a595851",
   "metadata": {},
   "outputs": [
    {
     "name": "stdout",
     "output_type": "stream",
     "text": [
      "Written by Ale Gatie\n",
      "It's you, it's always you\n",
      "If I'm ever gonna fall in love\n",
      "I know it's gon' be you\n",
      "It's you, it's always you\n",
      "Met a lot of people, but nobody feels like you\n",
      "So, please don't break my heart\n",
      "Don't tear me apart\n"
     ]
    }
   ],
   "source": [
    "lyrics_w_author='Written by Ale Gatie\\n' + lyrics\n",
    "print(lyrics_w_author)"
   ]
  },
  {
   "cell_type": "code",
   "execution_count": 41,
   "id": "4cbabb84",
   "metadata": {},
   "outputs": [],
   "source": [
    "f = open('itsyou.txt', 'wt')"
   ]
  },
  {
   "cell_type": "code",
   "execution_count": 42,
   "id": "779fe150",
   "metadata": {},
   "outputs": [
    {
     "data": {
      "text/plain": [
       "226"
      ]
     },
     "execution_count": 42,
     "metadata": {},
     "output_type": "execute_result"
    }
   ],
   "source": [
    "f.write(lyrics_w_author)"
   ]
  },
  {
   "cell_type": "code",
   "execution_count": 43,
   "id": "0a056109",
   "metadata": {},
   "outputs": [],
   "source": [
    "f.close()"
   ]
  },
  {
   "cell_type": "code",
   "execution_count": 45,
   "id": "915f879a",
   "metadata": {},
   "outputs": [],
   "source": [
    "f = open('../itsyoutoo.txt', 'rt')"
   ]
  },
  {
   "cell_type": "code",
   "execution_count": 46,
   "id": "4209d9c1",
   "metadata": {},
   "outputs": [
    {
     "name": "stdout",
     "output_type": "stream",
     "text": [
      "Written by Ale Gatie\n",
      "It's you, it's always you\n",
      "If I'm ever gonna fall in love\n",
      "I know it's gon' be you\n",
      "It's you, it's always you\n",
      "Met a lot of people, but nobody feels like you\n",
      "So, please don't break my heart\n",
      "Don't tear me apart\n"
     ]
    }
   ],
   "source": [
    "print(f.read())"
   ]
  },
  {
   "cell_type": "markdown",
   "id": "218dcbc8",
   "metadata": {},
   "source": [
    "### max value from a dictionary"
   ]
  },
  {
   "cell_type": "code",
   "execution_count": 67,
   "id": "6bc8787b",
   "metadata": {},
   "outputs": [],
   "source": [
    "my_dict={'A':3,'B':2,'C':3,'D':1}"
   ]
  },
  {
   "cell_type": "code",
   "execution_count": 68,
   "id": "f7cf5925",
   "metadata": {},
   "outputs": [
    {
     "name": "stdout",
     "output_type": "stream",
     "text": [
      "D\n"
     ]
    }
   ],
   "source": [
    "#by default this will return the max key without considering the values\n",
    "print(max(my_dict))"
   ]
  },
  {
   "cell_type": "code",
   "execution_count": 69,
   "id": "a9e19327",
   "metadata": {},
   "outputs": [
    {
     "name": "stdout",
     "output_type": "stream",
     "text": [
      "3\n"
     ]
    }
   ],
   "source": [
    "#get the max key\n",
    "print(max(my_dict.values()))"
   ]
  },
  {
   "cell_type": "code",
   "execution_count": 70,
   "id": "df63c5ae",
   "metadata": {},
   "outputs": [
    {
     "name": "stdout",
     "output_type": "stream",
     "text": [
      "A\n"
     ]
    }
   ],
   "source": [
    "#get the max key based on values\n",
    "print(max(my_dict, key=my_dict.get))"
   ]
  },
  {
   "cell_type": "code",
   "execution_count": 71,
   "id": "840efa11",
   "metadata": {},
   "outputs": [
    {
     "name": "stdout",
     "output_type": "stream",
     "text": [
      "A\n"
     ]
    }
   ],
   "source": [
    "#get the max key based on values using a lambda\n",
    "print(max(my_dict, key=lambda key:my_dict[key]))"
   ]
  },
  {
   "cell_type": "code",
   "execution_count": 72,
   "id": "c30ee8c3",
   "metadata": {},
   "outputs": [
    {
     "name": "stdout",
     "output_type": "stream",
     "text": [
      "{'A': 3, 'C': 3}\n"
     ]
    }
   ],
   "source": [
    "#get the max keys based on values\n",
    "print({key:value for key,value in my_dict.items() if value==max(my_dict.values())})"
   ]
  }
 ],
 "metadata": {
  "kernelspec": {
   "display_name": "Python 3 (ipykernel)",
   "language": "python",
   "name": "python3"
  },
  "language_info": {
   "codemirror_mode": {
    "name": "ipython",
    "version": 3
   },
   "file_extension": ".py",
   "mimetype": "text/x-python",
   "name": "python",
   "nbconvert_exporter": "python",
   "pygments_lexer": "ipython3",
   "version": "3.9.7"
  }
 },
 "nbformat": 4,
 "nbformat_minor": 5
}
