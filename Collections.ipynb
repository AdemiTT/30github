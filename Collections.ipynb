{
 "cells": [
  {
   "cell_type": "markdown",
   "id": "bb13afa7",
   "metadata": {},
   "source": [
    "### Lists"
   ]
  },
  {
   "cell_type": "code",
   "execution_count": null,
   "id": "0c41de00",
   "metadata": {},
   "outputs": [],
   "source": [
    "'''\n",
    "sample_list  = [‘item 1’, ‘item 2’, ‘item 3’]\n",
    "Written with square brackets\n",
    "Data types within a list can be mixed type\n",
    "Items in a list can be indexed, starting at 0\n",
    "The length of the list can be determined, len()\n",
    "Properties:\n",
    "Ordered\n",
    "Changeable\n",
    "Allow duplicates\n",
    "'''"
   ]
  },
  {
   "cell_type": "code",
   "execution_count": 1,
   "id": "b08d3139",
   "metadata": {},
   "outputs": [],
   "source": [
    "VIP_list=['Ahmed', 'Nazima','Tym']"
   ]
  },
  {
   "cell_type": "code",
   "execution_count": 2,
   "id": "0b808c3a",
   "metadata": {},
   "outputs": [
    {
     "name": "stdout",
     "output_type": "stream",
     "text": [
      "['Ahmed', 'Nazima', 'Tym']\n"
     ]
    }
   ],
   "source": [
    "print(VIP_list)"
   ]
  },
  {
   "cell_type": "code",
   "execution_count": 3,
   "id": "2b0630f2",
   "metadata": {},
   "outputs": [
    {
     "name": "stdout",
     "output_type": "stream",
     "text": [
      "3\n"
     ]
    }
   ],
   "source": [
    "print(len(VIP_list))"
   ]
  },
  {
   "cell_type": "code",
   "execution_count": null,
   "id": "dfde985b",
   "metadata": {},
   "outputs": [],
   "source": [
    "mixed_list=[3, 'three', 3.0, True]"
   ]
  },
  {
   "cell_type": "code",
   "execution_count": null,
   "id": "a90ee719",
   "metadata": {},
   "outputs": [],
   "source": [
    "print(mixed_list)"
   ]
  },
  {
   "cell_type": "code",
   "execution_count": null,
   "id": "7f6ce3bb",
   "metadata": {},
   "outputs": [],
   "source": [
    "print('Hello World')"
   ]
  },
  {
   "cell_type": "code",
   "execution_count": null,
   "id": "127804f3",
   "metadata": {},
   "outputs": [],
   "source": [
    "ahmed=['Ahmed','Seattle',10000000]"
   ]
  },
  {
   "cell_type": "markdown",
   "id": "6a97081d",
   "metadata": {},
   "source": [
    "### List indexing"
   ]
  },
  {
   "cell_type": "code",
   "execution_count": 7,
   "id": "0b8013db",
   "metadata": {},
   "outputs": [],
   "source": [
    "car_list=['toyota','tesla','porsche','honda','mazda']"
   ]
  },
  {
   "cell_type": "code",
   "execution_count": null,
   "id": "b08abdb5",
   "metadata": {},
   "outputs": [],
   "source": [
    "#list[start:stop:step]"
   ]
  },
  {
   "cell_type": "code",
   "execution_count": 8,
   "id": "a605af5f",
   "metadata": {},
   "outputs": [
    {
     "name": "stdout",
     "output_type": "stream",
     "text": [
      "['tesla', 'porsche']\n"
     ]
    }
   ],
   "source": [
    "print(car_list[1:3])"
   ]
  },
  {
   "cell_type": "code",
   "execution_count": 17,
   "id": "92f1a7a5",
   "metadata": {},
   "outputs": [],
   "source": [
    "car_list=['toyota','tesla','porsche','honda','mazda']"
   ]
  },
  {
   "cell_type": "code",
   "execution_count": null,
   "id": "deeb1de0",
   "metadata": {},
   "outputs": [],
   "source": [
    "['toyota','tesla','porsche','honda','mazda']\n",
    "[start   ,  1    ,    2    ,   1   ,   2   ]"
   ]
  },
  {
   "cell_type": "code",
   "execution_count": 14,
   "id": "2a8a466a",
   "metadata": {},
   "outputs": [
    {
     "name": "stdout",
     "output_type": "stream",
     "text": [
      "['toyota', 'porsche']\n"
     ]
    }
   ],
   "source": [
    "print(car_list[0:3:2])"
   ]
  },
  {
   "cell_type": "code",
   "execution_count": null,
   "id": "9986f6c0",
   "metadata": {},
   "outputs": [],
   "source": [
    "['toyota','tesla','porsche','honda','mazda']\n",
    "[        , start ,    1    ,   2   ,   1   ]"
   ]
  },
  {
   "cell_type": "code",
   "execution_count": 16,
   "id": "bc54d8e8",
   "metadata": {},
   "outputs": [
    {
     "name": "stdout",
     "output_type": "stream",
     "text": [
      "['toyota', 'porsche', 'mazda']\n"
     ]
    }
   ],
   "source": [
    "some_num=1\n",
    "print(car_list[some_num:4:2])"
   ]
  },
  {
   "cell_type": "code",
   "execution_count": null,
   "id": "6b69c10e",
   "metadata": {},
   "outputs": [],
   "source": [
    "#Create a list of all integers from 1 to 20.\n",
    "#Return all multiples of 3 using string indexing and slices from that list.\n",
    "int_list=[1,2,3,4,5,6,7,8,9,10,11,12,13,14,15,16,17,18,19,20]"
   ]
  },
  {
   "cell_type": "code",
   "execution_count": null,
   "id": "f9b82806",
   "metadata": {},
   "outputs": [],
   "source": [
    "int_list[0]"
   ]
  },
  {
   "cell_type": "code",
   "execution_count": null,
   "id": "f2e68cfd",
   "metadata": {},
   "outputs": [],
   "source": [
    "int_list[2::3]"
   ]
  },
  {
   "cell_type": "markdown",
   "id": "2e38146d",
   "metadata": {},
   "source": [
    "### Indexing step explanation"
   ]
  },
  {
   "cell_type": "code",
   "execution_count": null,
   "id": "1fde1673",
   "metadata": {},
   "outputs": [],
   "source": [
    "int_list[:10:3]"
   ]
  },
  {
   "cell_type": "code",
   "execution_count": null,
   "id": "cec8b4b8",
   "metadata": {},
   "outputs": [],
   "source": [
    "[1, 2, 3, 4, 5, 6, 7, 8, 9, 10]\n",
    "[#, 1, 2, 3, 1, 2, 3, 1, 2, 3]"
   ]
  },
  {
   "cell_type": "markdown",
   "id": "2127deca",
   "metadata": {},
   "source": [
    "### Updates"
   ]
  },
  {
   "cell_type": "code",
   "execution_count": 18,
   "id": "bf3895a4",
   "metadata": {},
   "outputs": [],
   "source": [
    "car_list[0]='nissan'"
   ]
  },
  {
   "cell_type": "code",
   "execution_count": 19,
   "id": "62f76f31",
   "metadata": {},
   "outputs": [
    {
     "name": "stdout",
     "output_type": "stream",
     "text": [
      "['nissan', 'tesla', 'porsche', 'honda', 'mazda']\n"
     ]
    }
   ],
   "source": [
    "print(car_list)"
   ]
  },
  {
   "cell_type": "code",
   "execution_count": 20,
   "id": "765b79f6",
   "metadata": {},
   "outputs": [],
   "source": [
    "#updating the variable is not the same as updating an item in a list\n",
    "car_list='nissan'"
   ]
  },
  {
   "cell_type": "code",
   "execution_count": 21,
   "id": "1f7abd8c",
   "metadata": {},
   "outputs": [
    {
     "name": "stdout",
     "output_type": "stream",
     "text": [
      "nissan\n"
     ]
    }
   ],
   "source": [
    "print(car_list)"
   ]
  },
  {
   "cell_type": "markdown",
   "id": "02a7f2a4",
   "metadata": {},
   "source": [
    "### Updating a slice"
   ]
  },
  {
   "cell_type": "code",
   "execution_count": 22,
   "id": "58d5f3e6",
   "metadata": {},
   "outputs": [],
   "source": [
    "car_list=['toyota','tesla','porsche','honda','mazda']"
   ]
  },
  {
   "cell_type": "code",
   "execution_count": 23,
   "id": "a69f41ec",
   "metadata": {},
   "outputs": [
    {
     "name": "stdout",
     "output_type": "stream",
     "text": [
      "['toyota', 'tesla', 'porsche']\n"
     ]
    }
   ],
   "source": [
    "print(car_list[0:3])"
   ]
  },
  {
   "cell_type": "code",
   "execution_count": 24,
   "id": "ba9b5931",
   "metadata": {},
   "outputs": [],
   "source": [
    "car_list[0:3]=['nissan','nissan','nissan']"
   ]
  },
  {
   "cell_type": "code",
   "execution_count": 25,
   "id": "0ffeed99",
   "metadata": {
    "scrolled": true
   },
   "outputs": [
    {
     "name": "stdout",
     "output_type": "stream",
     "text": [
      "['nissan', 'nissan', 'nissan', 'honda', 'mazda']\n"
     ]
    }
   ],
   "source": [
    "print(car_list)"
   ]
  },
  {
   "cell_type": "code",
   "execution_count": 26,
   "id": "9e9ebde9",
   "metadata": {},
   "outputs": [],
   "source": [
    "car_list=['toyota','tesla','porsche','honda','mazda']"
   ]
  },
  {
   "cell_type": "code",
   "execution_count": 27,
   "id": "16d306f7",
   "metadata": {},
   "outputs": [],
   "source": [
    "car_list[0:3]=['nissan','nissan']"
   ]
  },
  {
   "cell_type": "code",
   "execution_count": 28,
   "id": "100fb795",
   "metadata": {},
   "outputs": [
    {
     "name": "stdout",
     "output_type": "stream",
     "text": [
      "['nissan', 'nissan', 'honda', 'mazda']\n"
     ]
    }
   ],
   "source": [
    "print(car_list)"
   ]
  },
  {
   "cell_type": "code",
   "execution_count": 29,
   "id": "365275a4",
   "metadata": {},
   "outputs": [
    {
     "name": "stdout",
     "output_type": "stream",
     "text": [
      "4\n"
     ]
    }
   ],
   "source": [
    "print(len(car_list))"
   ]
  },
  {
   "cell_type": "code",
   "execution_count": 30,
   "id": "53d02ee6",
   "metadata": {},
   "outputs": [],
   "source": [
    "car_list=['toyota','tesla','porsche','honda','mazda']"
   ]
  },
  {
   "cell_type": "code",
   "execution_count": 31,
   "id": "53b8cd3d",
   "metadata": {},
   "outputs": [],
   "source": [
    "car_list[0:3]=['nissan','nissan','nissan','nissan']"
   ]
  },
  {
   "cell_type": "code",
   "execution_count": 32,
   "id": "77b4f8dc",
   "metadata": {},
   "outputs": [
    {
     "name": "stdout",
     "output_type": "stream",
     "text": [
      "['nissan', 'nissan', 'nissan', 'nissan', 'honda', 'mazda']\n"
     ]
    }
   ],
   "source": [
    "print(car_list)"
   ]
  },
  {
   "cell_type": "code",
   "execution_count": 33,
   "id": "0a2069ba",
   "metadata": {},
   "outputs": [
    {
     "name": "stdout",
     "output_type": "stream",
     "text": [
      "6\n"
     ]
    }
   ],
   "source": [
    "print(len(car_list))"
   ]
  },
  {
   "cell_type": "markdown",
   "id": "2c897bc8",
   "metadata": {},
   "source": [
    "### Strings as lists of characters"
   ]
  },
  {
   "cell_type": "code",
   "execution_count": null,
   "id": "9890ca5f",
   "metadata": {},
   "outputs": [],
   "source": [
    "pet_name='max'"
   ]
  },
  {
   "cell_type": "code",
   "execution_count": null,
   "id": "9f26353d",
   "metadata": {},
   "outputs": [],
   "source": [
    "pet_name[0]"
   ]
  },
  {
   "cell_type": "markdown",
   "id": "1d69b31e",
   "metadata": {},
   "source": [
    "### Creating a list using range"
   ]
  },
  {
   "cell_type": "code",
   "execution_count": null,
   "id": "f06dcde5",
   "metadata": {},
   "outputs": [],
   "source": [
    "print(list(range(0,21)))"
   ]
  },
  {
   "cell_type": "markdown",
   "id": "2de1246f",
   "metadata": {},
   "source": [
    "### List update exercise"
   ]
  },
  {
   "cell_type": "code",
   "execution_count": 34,
   "id": "00230d4e",
   "metadata": {},
   "outputs": [
    {
     "name": "stdout",
     "output_type": "stream",
     "text": [
      "[0, 1, 2, 3, 4, 5, 6]\n"
     ]
    }
   ],
   "source": [
    "list = [0,1,2,3,4,5,6]\n",
    "print(list)"
   ]
  },
  {
   "cell_type": "code",
   "execution_count": 35,
   "id": "d2249b34",
   "metadata": {
    "scrolled": true
   },
   "outputs": [
    {
     "name": "stdout",
     "output_type": "stream",
     "text": [
      "[0, 1, 2, 7, 8, 6]\n"
     ]
    }
   ],
   "source": [
    "list[3:6] = [7,8]\n",
    "print(list)"
   ]
  },
  {
   "cell_type": "code",
   "execution_count": 36,
   "id": "f30e49cf",
   "metadata": {},
   "outputs": [
    {
     "name": "stdout",
     "output_type": "stream",
     "text": [
      "[0, 1, 2, 3, 4, 5]\n"
     ]
    }
   ],
   "source": [
    "list[3:6] = [3,4,5]\n",
    "print(list)"
   ]
  },
  {
   "cell_type": "markdown",
   "id": "7a125b63",
   "metadata": {},
   "source": [
    "### Adding to a list"
   ]
  },
  {
   "cell_type": "code",
   "execution_count": null,
   "id": "355059cc",
   "metadata": {},
   "outputs": [],
   "source": [
    "Append, adds a new item to end of the list\n",
    "list.append(‘new item’)\n",
    "Insert, add an item at a specific index in the list\n",
    "list.insert(2, ‘new item’)\n",
    "Extend, adds the elements of an iterable/collection as separate items in a list\n",
    "list.extend((‘item1’, ‘item2’, ‘item3’))\n"
   ]
  },
  {
   "cell_type": "code",
   "execution_count": 37,
   "id": "54c8c0a2",
   "metadata": {},
   "outputs": [],
   "source": [
    "my_list=[32, 90, 2]"
   ]
  },
  {
   "cell_type": "code",
   "execution_count": 43,
   "id": "702f4745",
   "metadata": {},
   "outputs": [],
   "source": [
    "my_list.append(50)"
   ]
  },
  {
   "cell_type": "code",
   "execution_count": 39,
   "id": "6a930325",
   "metadata": {},
   "outputs": [
    {
     "name": "stdout",
     "output_type": "stream",
     "text": [
      "[32, 90, 2, 50]\n"
     ]
    }
   ],
   "source": [
    "print(my_list)"
   ]
  },
  {
   "cell_type": "code",
   "execution_count": 40,
   "id": "297980f3",
   "metadata": {},
   "outputs": [],
   "source": [
    "my_list.insert(2, 30)"
   ]
  },
  {
   "cell_type": "code",
   "execution_count": 41,
   "id": "81366fa8",
   "metadata": {},
   "outputs": [
    {
     "name": "stdout",
     "output_type": "stream",
     "text": [
      "[32, 90, 30, 2, 50]\n"
     ]
    }
   ],
   "source": [
    "print(my_list)"
   ]
  },
  {
   "cell_type": "code",
   "execution_count": 44,
   "id": "f62c50f9",
   "metadata": {},
   "outputs": [],
   "source": [
    "my_list.append('jon')"
   ]
  },
  {
   "cell_type": "code",
   "execution_count": 45,
   "id": "0cabaa94",
   "metadata": {},
   "outputs": [
    {
     "name": "stdout",
     "output_type": "stream",
     "text": [
      "[32, 90, 30, 2, 50, 50, 'jon']\n"
     ]
    }
   ],
   "source": [
    "print(my_list)"
   ]
  },
  {
   "cell_type": "code",
   "execution_count": 46,
   "id": "fdc03e0e",
   "metadata": {},
   "outputs": [],
   "source": [
    "my_list.append(['jon','sallie','sue'])"
   ]
  },
  {
   "cell_type": "code",
   "execution_count": 47,
   "id": "65dbf214",
   "metadata": {},
   "outputs": [
    {
     "name": "stdout",
     "output_type": "stream",
     "text": [
      "[32, 90, 30, 2, 50, 50, 'jon', ['jon', 'sallie', 'sue']]\n"
     ]
    }
   ],
   "source": [
    "print(my_list)"
   ]
  },
  {
   "cell_type": "code",
   "execution_count": 48,
   "id": "828acbc2",
   "metadata": {},
   "outputs": [
    {
     "name": "stdout",
     "output_type": "stream",
     "text": [
      "['jon', 'sallie', 'sue']\n"
     ]
    }
   ],
   "source": [
    "print(my_list[-1])"
   ]
  },
  {
   "cell_type": "code",
   "execution_count": 49,
   "id": "a5e04b7d",
   "metadata": {},
   "outputs": [],
   "source": [
    "my_list.extend(['jon','sallie','sue'])"
   ]
  },
  {
   "cell_type": "code",
   "execution_count": 50,
   "id": "38ca290f",
   "metadata": {},
   "outputs": [
    {
     "name": "stdout",
     "output_type": "stream",
     "text": [
      "[32, 90, 30, 2, 50, 50, 'jon', ['jon', 'sallie', 'sue'], 'jon', 'sallie', 'sue']\n"
     ]
    }
   ],
   "source": [
    "print(my_list)"
   ]
  },
  {
   "cell_type": "code",
   "execution_count": 51,
   "id": "8a46fd63",
   "metadata": {},
   "outputs": [
    {
     "name": "stdout",
     "output_type": "stream",
     "text": [
      "sue\n"
     ]
    }
   ],
   "source": [
    "print(my_list[-1])"
   ]
  },
  {
   "cell_type": "code",
   "execution_count": 52,
   "id": "4163f536",
   "metadata": {},
   "outputs": [
    {
     "ename": "TypeError",
     "evalue": "list.extend() takes exactly one argument (3 given)",
     "output_type": "error",
     "traceback": [
      "\u001b[0;31m---------------------------------------------------------------------------\u001b[0m",
      "\u001b[0;31mTypeError\u001b[0m                                 Traceback (most recent call last)",
      "\u001b[0;32m/var/folders/jj/069cjw895_l8nngb42l0qm4w0000gp/T/ipykernel_5822/3539364146.py\u001b[0m in \u001b[0;36m<module>\u001b[0;34m\u001b[0m\n\u001b[0;32m----> 1\u001b[0;31m \u001b[0mmy_list\u001b[0m\u001b[0;34m.\u001b[0m\u001b[0mextend\u001b[0m\u001b[0;34m(\u001b[0m\u001b[0;34m'jon'\u001b[0m\u001b[0;34m,\u001b[0m\u001b[0;34m'sallie'\u001b[0m\u001b[0;34m,\u001b[0m\u001b[0;34m'sue'\u001b[0m\u001b[0;34m)\u001b[0m\u001b[0;34m\u001b[0m\u001b[0;34m\u001b[0m\u001b[0m\n\u001b[0m",
      "\u001b[0;31mTypeError\u001b[0m: list.extend() takes exactly one argument (3 given)"
     ]
    }
   ],
   "source": [
    "my_list.extend(['jon','sallie','sue'])"
   ]
  },
  {
   "cell_type": "code",
   "execution_count": null,
   "id": "142427ba",
   "metadata": {},
   "outputs": [],
   "source": [
    "#create a list of planets\n",
    "#append pluto to the end, because you like pluto\n",
    "#please add Earth's moon after earth\n",
    "#list.insert(index, item)\n",
    "listofplanets.insert(3, 'moon')"
   ]
  },
  {
   "cell_type": "markdown",
   "id": "6cd52014",
   "metadata": {},
   "source": [
    "### Removing items from a list"
   ]
  },
  {
   "cell_type": "code",
   "execution_count": null,
   "id": "ac116759",
   "metadata": {},
   "outputs": [],
   "source": [
    "Remove method, removes the specified item\n",
    "list.remove(‘item1’)\n",
    "\n",
    "Pop method, removes the item at an index\n",
    "If no argument is given, the last item is removed\n",
    "list.pop(1)\n",
    "\n",
    "del keyword, remove an item at the index or the whole list\n",
    "del list[1]\n",
    "\n",
    "Clear method\n",
    "list.clear()"
   ]
  },
  {
   "cell_type": "code",
   "execution_count": 53,
   "id": "fea55474",
   "metadata": {},
   "outputs": [
    {
     "name": "stdout",
     "output_type": "stream",
     "text": [
      "[32, 90, 30, 2, 50, 50, 'jon', ['jon', 'sallie', 'sue'], 'jon', 'sallie', 'sue']\n"
     ]
    }
   ],
   "source": [
    "print(my_list)"
   ]
  },
  {
   "cell_type": "code",
   "execution_count": 55,
   "id": "e51618d0",
   "metadata": {},
   "outputs": [],
   "source": [
    "my_list.remove('jon')"
   ]
  },
  {
   "cell_type": "code",
   "execution_count": 56,
   "id": "698f2cba",
   "metadata": {},
   "outputs": [
    {
     "name": "stdout",
     "output_type": "stream",
     "text": [
      "[32, 90, 30, 2, 50, 50, ['jon', 'sallie', 'sue'], 'sallie', 'sue']\n"
     ]
    }
   ],
   "source": [
    "print(my_list)"
   ]
  },
  {
   "cell_type": "code",
   "execution_count": 57,
   "id": "37204126",
   "metadata": {},
   "outputs": [
    {
     "name": "stdout",
     "output_type": "stream",
     "text": [
      "['jon', 'sallie', 'sue']\n"
     ]
    }
   ],
   "source": [
    "print(my_list[6])"
   ]
  },
  {
   "cell_type": "code",
   "execution_count": 58,
   "id": "7b38d29e",
   "metadata": {},
   "outputs": [
    {
     "name": "stdout",
     "output_type": "stream",
     "text": [
      "sallie\n"
     ]
    }
   ],
   "source": [
    "print(my_list[6][1])"
   ]
  },
  {
   "cell_type": "code",
   "execution_count": 59,
   "id": "5ed8713f",
   "metadata": {},
   "outputs": [
    {
     "name": "stdout",
     "output_type": "stream",
     "text": [
      "[32, 90, 30, 2, 50, 50, ['jon', 'sallie', 'sue'], 'sallie', 'sue']\n"
     ]
    }
   ],
   "source": [
    "print(my_list)"
   ]
  },
  {
   "cell_type": "code",
   "execution_count": 60,
   "id": "0956b4cb",
   "metadata": {},
   "outputs": [],
   "source": [
    "my_list[6].remove('jon')"
   ]
  },
  {
   "cell_type": "code",
   "execution_count": 61,
   "id": "3234af03",
   "metadata": {
    "scrolled": true
   },
   "outputs": [
    {
     "name": "stdout",
     "output_type": "stream",
     "text": [
      "[32, 90, 30, 2, 50, 50, ['sallie', 'sue'], 'sallie', 'sue']\n"
     ]
    }
   ],
   "source": [
    "print(my_list)"
   ]
  },
  {
   "cell_type": "code",
   "execution_count": 63,
   "id": "9210990c",
   "metadata": {},
   "outputs": [],
   "source": [
    "my_list.remove(50)"
   ]
  },
  {
   "cell_type": "code",
   "execution_count": 64,
   "id": "58b55f51",
   "metadata": {},
   "outputs": [
    {
     "name": "stdout",
     "output_type": "stream",
     "text": [
      "[32, 90, 30, 2, 50, ['sallie', 'sue'], 'sallie', 'sue']\n"
     ]
    }
   ],
   "source": [
    "print(my_list)"
   ]
  },
  {
   "cell_type": "code",
   "execution_count": 65,
   "id": "b23c0af1",
   "metadata": {},
   "outputs": [],
   "source": [
    "my_list=[32, 90, 30, 2, 50, 50, 'jon', ['jon', 'sallie', 'sue'], 'jon', 'sallie', 'sue']"
   ]
  },
  {
   "cell_type": "code",
   "execution_count": 66,
   "id": "f4fb2f45",
   "metadata": {},
   "outputs": [
    {
     "name": "stdout",
     "output_type": "stream",
     "text": [
      "[32, 90, 30, 2, 50, 50, 'jon', ['jon', 'sallie', 'sue'], 'jon', 'sallie', 'sue']\n"
     ]
    }
   ],
   "source": [
    "print(my_list)"
   ]
  },
  {
   "cell_type": "code",
   "execution_count": 82,
   "id": "61ab46b7",
   "metadata": {},
   "outputs": [],
   "source": [
    "#inplace update\n",
    "my_list.remove('jon')"
   ]
  },
  {
   "cell_type": "code",
   "execution_count": 68,
   "id": "abfe1386",
   "metadata": {},
   "outputs": [
    {
     "name": "stdout",
     "output_type": "stream",
     "text": [
      "[32, 90, 30, 2, 50, 50, ['jon', 'sallie', 'sue'], 'jon', 'sallie', 'sue']\n"
     ]
    }
   ],
   "source": [
    "print(my_list)"
   ]
  },
  {
   "cell_type": "code",
   "execution_count": 71,
   "id": "a97e9969",
   "metadata": {},
   "outputs": [
    {
     "name": "stdout",
     "output_type": "stream",
     "text": [
      "5\n"
     ]
    }
   ],
   "source": [
    "#list.index(itemtofind, start, end)\n",
    "print(my_list.index(50, 5))"
   ]
  },
  {
   "cell_type": "code",
   "execution_count": 72,
   "id": "6ab9c85e",
   "metadata": {},
   "outputs": [
    {
     "name": "stdout",
     "output_type": "stream",
     "text": [
      "[32, 90, 30, 2, 50, 50, ['jon', 'sallie', 'sue'], 'jon', 'sallie', 'sue']\n"
     ]
    }
   ],
   "source": [
    "print(my_list)"
   ]
  },
  {
   "cell_type": "code",
   "execution_count": 73,
   "id": "092533ba",
   "metadata": {},
   "outputs": [
    {
     "data": {
      "text/plain": [
       "90"
      ]
     },
     "execution_count": 73,
     "metadata": {},
     "output_type": "execute_result"
    }
   ],
   "source": [
    "my_list.pop(1)"
   ]
  },
  {
   "cell_type": "code",
   "execution_count": 75,
   "id": "2fed8b4e",
   "metadata": {
    "scrolled": true
   },
   "outputs": [
    {
     "name": "stdout",
     "output_type": "stream",
     "text": [
      "[32, 30, 2, 50, 50, ['jon', 'sallie', 'sue'], 'jon', 'sallie', 'sue']\n"
     ]
    }
   ],
   "source": [
    "print(my_list)"
   ]
  },
  {
   "cell_type": "code",
   "execution_count": 78,
   "id": "5ad00315",
   "metadata": {},
   "outputs": [
    {
     "name": "stdout",
     "output_type": "stream",
     "text": [
      "['sallie', 'sue']\n"
     ]
    }
   ],
   "source": [
    "print(my_list[5].remove('jon'))"
   ]
  },
  {
   "cell_type": "code",
   "execution_count": 79,
   "id": "f1649483",
   "metadata": {},
   "outputs": [
    {
     "name": "stdout",
     "output_type": "stream",
     "text": [
      "[32, 30, 2, 50, 50, ['sallie', 'sue'], 'jon', 'sallie', 'sue']\n"
     ]
    }
   ],
   "source": [
    "print(my_list)"
   ]
  },
  {
   "cell_type": "markdown",
   "id": "ac2794ac",
   "metadata": {},
   "source": [
    "### Nested list example"
   ]
  },
  {
   "cell_type": "code",
   "execution_count": null,
   "id": "e233f3b0",
   "metadata": {},
   "outputs": [],
   "source": [
    "pixels=[[r,g,b],[r,g,b],[r,g,b]]\n",
    "pixels=[[2,100,2],[2,100,2],[2,100,2]]"
   ]
  },
  {
   "cell_type": "markdown",
   "id": "3118081b",
   "metadata": {},
   "source": [
    "### List sorting"
   ]
  },
  {
   "cell_type": "code",
   "execution_count": null,
   "id": "dc6ccb30",
   "metadata": {},
   "outputs": [],
   "source": [
    "Lists can be sorted alphanumerically\n",
    "list.sort\n",
    "Sorted in ascending order by default, but can be reversed\n",
    "list.sort(reverse = True)\n",
    "Sort based on a custom key\n",
    "str.lower, myfunc()\n",
    "Order of the list can reversed regardless of sort\n",
    "list.reverse()"
   ]
  },
  {
   "cell_type": "code",
   "execution_count": 120,
   "id": "6f894cc2",
   "metadata": {},
   "outputs": [],
   "source": [
    "good_students=['Saiid','Adis','Islamchik','Abi']"
   ]
  },
  {
   "cell_type": "code",
   "execution_count": 111,
   "id": "9ee496f3",
   "metadata": {},
   "outputs": [
    {
     "name": "stdout",
     "output_type": "stream",
     "text": [
      "['Saiid', 'Adis', 'Islamchik', 'Abi']\n"
     ]
    }
   ],
   "source": [
    "print(good_students)"
   ]
  },
  {
   "cell_type": "code",
   "execution_count": 112,
   "id": "677469be",
   "metadata": {},
   "outputs": [],
   "source": [
    "good_students.sort()"
   ]
  },
  {
   "cell_type": "code",
   "execution_count": 95,
   "id": "848c01b5",
   "metadata": {},
   "outputs": [
    {
     "name": "stdout",
     "output_type": "stream",
     "text": [
      "['Abi', 'Adis', 'Islamchik', 'Saiid']\n"
     ]
    }
   ],
   "source": [
    "print(good_students)"
   ]
  },
  {
   "cell_type": "code",
   "execution_count": 121,
   "id": "f6854b19",
   "metadata": {},
   "outputs": [],
   "source": [
    "good_students.sort(reverse=True)"
   ]
  },
  {
   "cell_type": "code",
   "execution_count": 122,
   "id": "2db4ff57",
   "metadata": {},
   "outputs": [
    {
     "name": "stdout",
     "output_type": "stream",
     "text": [
      "['Saiid', 'Islamchik', 'Adis', 'Abi']\n"
     ]
    }
   ],
   "source": [
    "print(good_students)"
   ]
  },
  {
   "cell_type": "code",
   "execution_count": 99,
   "id": "944655cf",
   "metadata": {},
   "outputs": [],
   "source": [
    "grades=[78, 110, 95, 80]"
   ]
  },
  {
   "cell_type": "code",
   "execution_count": 102,
   "id": "fcf32db7",
   "metadata": {},
   "outputs": [],
   "source": [
    "grades.sort(reverse=True)"
   ]
  },
  {
   "cell_type": "code",
   "execution_count": 103,
   "id": "42000046",
   "metadata": {},
   "outputs": [
    {
     "name": "stdout",
     "output_type": "stream",
     "text": [
      "[110, 95, 80, 78]\n"
     ]
    }
   ],
   "source": [
    "print(grades)"
   ]
  },
  {
   "cell_type": "code",
   "execution_count": 104,
   "id": "3597e7b6",
   "metadata": {},
   "outputs": [],
   "source": [
    "grades=[78.8, 78.6, 95.0, 80.1841270]"
   ]
  },
  {
   "cell_type": "code",
   "execution_count": 105,
   "id": "a8c74938",
   "metadata": {},
   "outputs": [],
   "source": [
    "grades.sort(reverse=False)"
   ]
  },
  {
   "cell_type": "code",
   "execution_count": 106,
   "id": "a051f4df",
   "metadata": {},
   "outputs": [
    {
     "name": "stdout",
     "output_type": "stream",
     "text": [
      "[78.6, 78.8, 80.184127, 95.0]\n"
     ]
    }
   ],
   "source": [
    "print(grades)"
   ]
  },
  {
   "cell_type": "code",
   "execution_count": 116,
   "id": "d58270ab",
   "metadata": {},
   "outputs": [
    {
     "name": "stdout",
     "output_type": "stream",
     "text": [
      "['Abi', 'Adis', 'Islamchik', 'Saiid']\n"
     ]
    }
   ],
   "source": [
    "print(good_students)"
   ]
  },
  {
   "cell_type": "code",
   "execution_count": 125,
   "id": "8da57bdf",
   "metadata": {},
   "outputs": [],
   "source": [
    "#sort based on length\n",
    "good_students.sort(key=len,reverse=True)"
   ]
  },
  {
   "cell_type": "code",
   "execution_count": 126,
   "id": "58831842",
   "metadata": {},
   "outputs": [
    {
     "name": "stdout",
     "output_type": "stream",
     "text": [
      "['Islamchik', 'Saiid', 'Adis', 'Abi']\n"
     ]
    }
   ],
   "source": [
    "print(good_students)"
   ]
  },
  {
   "cell_type": "markdown",
   "id": "29ff5697",
   "metadata": {},
   "source": [
    "### Dictionary"
   ]
  },
  {
   "cell_type": "code",
   "execution_count": null,
   "id": "5ca66dba",
   "metadata": {},
   "outputs": [],
   "source": [
    "dictionary={\n",
    "    key:value,\n",
    "    key:value}"
   ]
  },
  {
   "cell_type": "code",
   "execution_count": null,
   "id": "fc95b645",
   "metadata": {},
   "outputs": [],
   "source": [
    "new_kid_name=input('What should I name my kid?')"
   ]
  },
  {
   "cell_type": "code",
   "execution_count": 139,
   "id": "3f16a002",
   "metadata": {},
   "outputs": [],
   "source": [
    "saiid={\n",
    "    'favourite_colour':'violet',\n",
    "    'favorite_sport':'grappling',\n",
    "    'number_of_kids':5,\n",
    "    'kids_names':['saiid jr', 'mitchell', 'saiid jr 2.0', 'saiid jr jr', new_kid_name],\n",
    "    'are_they_happy?':True}"
   ]
  },
  {
   "cell_type": "code",
   "execution_count": 136,
   "id": "440a98d6",
   "metadata": {},
   "outputs": [
    {
     "name": "stdout",
     "output_type": "stream",
     "text": [
      "{'favourite_colour': 'violet', 'favorite_sport': 'grappling', 'number_of_kids': 5, 'are_they_happy?': True}\n"
     ]
    }
   ],
   "source": [
    "print(saiid)"
   ]
  },
  {
   "cell_type": "code",
   "execution_count": 131,
   "id": "bf2cc28c",
   "metadata": {},
   "outputs": [
    {
     "name": "stdout",
     "output_type": "stream",
     "text": [
      "5\n"
     ]
    }
   ],
   "source": [
    "#indexing is done with keys\n",
    "print(saiid['number_of_kids'])"
   ]
  },
  {
   "cell_type": "code",
   "execution_count": 132,
   "id": "5eabf0f1",
   "metadata": {},
   "outputs": [],
   "source": [
    "saiid['number_of_kids']=7"
   ]
  },
  {
   "cell_type": "code",
   "execution_count": 133,
   "id": "8d33eb35",
   "metadata": {},
   "outputs": [
    {
     "name": "stdout",
     "output_type": "stream",
     "text": [
      "7\n"
     ]
    }
   ],
   "source": [
    "print(saiid['number_of_kids'])"
   ]
  },
  {
   "cell_type": "code",
   "execution_count": 140,
   "id": "12c2ecf0",
   "metadata": {
    "scrolled": true
   },
   "outputs": [
    {
     "name": "stdout",
     "output_type": "stream",
     "text": [
      "['saiid jr', 'mitchell', 'saiid jr 2.0', 'saiid jr jr', 'saiid sr']\n"
     ]
    }
   ],
   "source": [
    "print(saiid['kids_names'])"
   ]
  },
  {
   "cell_type": "code",
   "execution_count": 141,
   "id": "3e3cb58e",
   "metadata": {},
   "outputs": [
    {
     "name": "stdout",
     "output_type": "stream",
     "text": [
      "dict_keys(['favourite_colour', 'favorite_sport', 'number_of_kids', 'kids_names', 'are_they_happy?'])\n"
     ]
    }
   ],
   "source": [
    "#getting the keys from a dictionary\n",
    "print(saiid.keys())"
   ]
  },
  {
   "cell_type": "code",
   "execution_count": 142,
   "id": "dba32d0c",
   "metadata": {},
   "outputs": [
    {
     "name": "stdout",
     "output_type": "stream",
     "text": [
      "dict_values(['violet', 'grappling', 5, ['saiid jr', 'mitchell', 'saiid jr 2.0', 'saiid jr jr', 'saiid sr'], True])\n"
     ]
    }
   ],
   "source": [
    "print(saiid.values())"
   ]
  },
  {
   "cell_type": "code",
   "execution_count": 143,
   "id": "12f5abd7",
   "metadata": {},
   "outputs": [
    {
     "name": "stdout",
     "output_type": "stream",
     "text": [
      "dict_items([('favourite_colour', 'violet'), ('favorite_sport', 'grappling'), ('number_of_kids', 5), ('kids_names', ['saiid jr', 'mitchell', 'saiid jr 2.0', 'saiid jr jr', 'saiid sr']), ('are_they_happy?', True)])\n"
     ]
    }
   ],
   "source": [
    "print(saiid.items())"
   ]
  },
  {
   "cell_type": "code",
   "execution_count": null,
   "id": "b107d0c3",
   "metadata": {},
   "outputs": [],
   "source": []
  }
 ],
 "metadata": {
  "kernelspec": {
   "display_name": "Python 3 (ipykernel)",
   "language": "python",
   "name": "python3"
  },
  "language_info": {
   "codemirror_mode": {
    "name": "ipython",
    "version": 3
   },
   "file_extension": ".py",
   "mimetype": "text/x-python",
   "name": "python",
   "nbconvert_exporter": "python",
   "pygments_lexer": "ipython3",
   "version": "3.9.7"
  }
 },
 "nbformat": 4,
 "nbformat_minor": 5
}
