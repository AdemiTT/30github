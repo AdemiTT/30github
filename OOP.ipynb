{
 "cells": [
  {
   "cell_type": "markdown",
   "id": "09a86d65",
   "metadata": {},
   "source": [
    "### Adding class attributes"
   ]
  },
  {
   "cell_type": "code",
   "execution_count": 7,
   "id": "964805f3",
   "metadata": {},
   "outputs": [],
   "source": [
    "class Bird:\n",
    "    species='bird'"
   ]
  },
  {
   "cell_type": "code",
   "execution_count": 8,
   "id": "c4614e2a",
   "metadata": {},
   "outputs": [],
   "source": [
    "bird1=Bird()"
   ]
  },
  {
   "cell_type": "code",
   "execution_count": 9,
   "id": "78d7eaff",
   "metadata": {},
   "outputs": [
    {
     "name": "stdout",
     "output_type": "stream",
     "text": [
      "bird\n"
     ]
    }
   ],
   "source": [
    "print(bird1.species)"
   ]
  },
  {
   "cell_type": "code",
   "execution_count": 10,
   "id": "5a5b053f",
   "metadata": {},
   "outputs": [],
   "source": [
    "bird2=Bird()"
   ]
  },
  {
   "cell_type": "code",
   "execution_count": 11,
   "id": "f5d0282e",
   "metadata": {},
   "outputs": [
    {
     "name": "stdout",
     "output_type": "stream",
     "text": [
      "bird\n"
     ]
    }
   ],
   "source": [
    "print(bird2.species)"
   ]
  },
  {
   "cell_type": "markdown",
   "id": "84b364f2",
   "metadata": {},
   "source": [
    "### Adding instance attributes"
   ]
  },
  {
   "cell_type": "code",
   "execution_count": 124,
   "id": "9aa709ac",
   "metadata": {},
   "outputs": [],
   "source": [
    "class Bird():\n",
    "    species='bird'\n",
    "    \n",
    "    def __init__(self, wingspan, colour, predator,weight):\n",
    "        self.wingspan=wingspan\n",
    "        self.colour=colour\n",
    "        self.predator=predator\n",
    "        self.weight=weight"
   ]
  },
  {
   "cell_type": "code",
   "execution_count": 125,
   "id": "0773a1fb",
   "metadata": {},
   "outputs": [],
   "source": [
    "bird3=Bird(20,'blue',True,30)"
   ]
  },
  {
   "cell_type": "code",
   "execution_count": 126,
   "id": "4f8a48dd",
   "metadata": {},
   "outputs": [
    {
     "name": "stdout",
     "output_type": "stream",
     "text": [
      "blue\n"
     ]
    }
   ],
   "source": [
    "print(bird3.colour)"
   ]
  },
  {
   "cell_type": "code",
   "execution_count": 127,
   "id": "042fe94f",
   "metadata": {},
   "outputs": [
    {
     "name": "stdout",
     "output_type": "stream",
     "text": [
      "True\n"
     ]
    }
   ],
   "source": [
    "print(bird3.predator)"
   ]
  },
  {
   "cell_type": "code",
   "execution_count": 128,
   "id": "c3211c12",
   "metadata": {},
   "outputs": [],
   "source": [
    "bird4=Bird(20,'blue',False,30)"
   ]
  },
  {
   "cell_type": "code",
   "execution_count": 129,
   "id": "fa39d23e",
   "metadata": {},
   "outputs": [
    {
     "name": "stdout",
     "output_type": "stream",
     "text": [
      "False\n"
     ]
    }
   ],
   "source": [
    "print(bird4.predator)"
   ]
  },
  {
   "cell_type": "markdown",
   "id": "2ab891c6",
   "metadata": {},
   "source": [
    "### Methods"
   ]
  },
  {
   "cell_type": "code",
   "execution_count": 29,
   "id": "155f46b3",
   "metadata": {},
   "outputs": [],
   "source": [
    "class Bird():\n",
    "    species='bird'\n",
    "    \n",
    "    def __init__(self, wingspan, colour, predator,weight):\n",
    "        self.wingspan=wingspan\n",
    "        self.colour=colour\n",
    "        self.predator=predator\n",
    "        self.weight=weight\n",
    "    \n",
    "    def will_it_fit(self, gap):\n",
    "        if self.wingspan<gap:\n",
    "            return True\n",
    "        else:\n",
    "            return False\n",
    "        "
   ]
  },
  {
   "cell_type": "code",
   "execution_count": 30,
   "id": "767befd4",
   "metadata": {},
   "outputs": [],
   "source": [
    "wide_boi=Bird(1000, 'red',True, 50)"
   ]
  },
  {
   "cell_type": "code",
   "execution_count": 31,
   "id": "e57f4d59",
   "metadata": {},
   "outputs": [
    {
     "name": "stdout",
     "output_type": "stream",
     "text": [
      "bird\n"
     ]
    }
   ],
   "source": [
    "print(wide_boi.species)"
   ]
  },
  {
   "cell_type": "code",
   "execution_count": 32,
   "id": "5520d2ce",
   "metadata": {},
   "outputs": [
    {
     "name": "stdout",
     "output_type": "stream",
     "text": [
      "1000\n"
     ]
    }
   ],
   "source": [
    "print(wide_boi.wingspan)"
   ]
  },
  {
   "cell_type": "code",
   "execution_count": 34,
   "id": "3544a9ca",
   "metadata": {},
   "outputs": [
    {
     "name": "stdout",
     "output_type": "stream",
     "text": [
      "True\n"
     ]
    }
   ],
   "source": [
    "print(wide_boi.will_it_fit(1001))"
   ]
  },
  {
   "cell_type": "code",
   "execution_count": 35,
   "id": "0817eb64",
   "metadata": {},
   "outputs": [],
   "source": [
    "narrow_burd=Bird(10, 'blue',True, 500)"
   ]
  },
  {
   "cell_type": "code",
   "execution_count": 36,
   "id": "3582f924",
   "metadata": {},
   "outputs": [
    {
     "name": "stdout",
     "output_type": "stream",
     "text": [
      "True\n"
     ]
    }
   ],
   "source": [
    "print(narrow_burd.will_it_fit(25))"
   ]
  },
  {
   "cell_type": "code",
   "execution_count": 38,
   "id": "fbf5502e",
   "metadata": {},
   "outputs": [
    {
     "name": "stdout",
     "output_type": "stream",
     "text": [
      "False\n"
     ]
    }
   ],
   "source": [
    "print(narrow_burd.will_it_fit(5))"
   ]
  },
  {
   "cell_type": "markdown",
   "id": "082a0761",
   "metadata": {},
   "source": [
    "### Subclasses"
   ]
  },
  {
   "cell_type": "code",
   "execution_count": 254,
   "id": "4bffaccc",
   "metadata": {},
   "outputs": [],
   "source": [
    "class human:\n",
    "    specifies='human'\n",
    "    \n",
    "    def __init__(self, name, height):\n",
    "        self.name=name\n",
    "        self.height=height\n",
    "        \n",
    "    def introduce(self):\n",
    "        return 'Hi, my name is {}! My height is {}!'.format(self.name, self.height)"
   ]
  },
  {
   "cell_type": "code",
   "execution_count": 255,
   "id": "1902350a",
   "metadata": {},
   "outputs": [],
   "source": [
    "david=human('david', 120)"
   ]
  },
  {
   "cell_type": "code",
   "execution_count": 256,
   "id": "10545001",
   "metadata": {},
   "outputs": [
    {
     "name": "stdout",
     "output_type": "stream",
     "text": [
      "david\n"
     ]
    }
   ],
   "source": [
    "print(david.name)"
   ]
  },
  {
   "cell_type": "code",
   "execution_count": 257,
   "id": "a586dc55",
   "metadata": {},
   "outputs": [
    {
     "name": "stdout",
     "output_type": "stream",
     "text": [
      "Hi, my name is david! My height is 120!\n"
     ]
    }
   ],
   "source": [
    "print(david.introduce())"
   ]
  },
  {
   "cell_type": "code",
   "execution_count": 223,
   "id": "7b48dd34",
   "metadata": {},
   "outputs": [
    {
     "name": "stdout",
     "output_type": "stream",
     "text": [
      "{'name': 'david', 'height': 120}\n"
     ]
    }
   ],
   "source": [
    "print(david.__dict__)"
   ]
  },
  {
   "cell_type": "code",
   "execution_count": 208,
   "id": "17a0048c",
   "metadata": {},
   "outputs": [],
   "source": [
    "sally=human(person_dictionary['name'], person_dictionary['height'])"
   ]
  },
  {
   "cell_type": "markdown",
   "id": "391dc55a",
   "metadata": {},
   "source": [
    "### Student"
   ]
  },
  {
   "cell_type": "code",
   "execution_count": 313,
   "id": "9576f06c",
   "metadata": {},
   "outputs": [],
   "source": [
    "class student(human):\n",
    "    def __init__(self, name, height, grade):\n",
    "        super().__init__(name, height)\n",
    "        self.grade=grade\n",
    "    \n",
    "    def early_bird(self):\n",
    "        return False"
   ]
  },
  {
   "cell_type": "code",
   "execution_count": 314,
   "id": "c7949d0b",
   "metadata": {},
   "outputs": [],
   "source": [
    "claire=student('claire',125,90)"
   ]
  },
  {
   "cell_type": "code",
   "execution_count": 315,
   "id": "519e15d2",
   "metadata": {},
   "outputs": [
    {
     "name": "stdout",
     "output_type": "stream",
     "text": [
      "90\n"
     ]
    }
   ],
   "source": [
    "print(claire.grade)"
   ]
  },
  {
   "cell_type": "code",
   "execution_count": 311,
   "id": "15fc4253",
   "metadata": {},
   "outputs": [
    {
     "name": "stdout",
     "output_type": "stream",
     "text": [
      "{'name': 'claire', 'height': 125, 'grade': 90}\n"
     ]
    }
   ],
   "source": [
    "print(claire.__dict__)"
   ]
  },
  {
   "cell_type": "code",
   "execution_count": 242,
   "id": "f2ae936c",
   "metadata": {},
   "outputs": [
    {
     "name": "stdout",
     "output_type": "stream",
     "text": [
      "Hi, my name is claire\n"
     ]
    }
   ],
   "source": [
    "print(claire.introduce())"
   ]
  },
  {
   "cell_type": "code",
   "execution_count": null,
   "id": "56a15018",
   "metadata": {},
   "outputs": [],
   "source": []
  },
  {
   "cell_type": "code",
   "execution_count": null,
   "id": "bb426912",
   "metadata": {},
   "outputs": [],
   "source": []
  },
  {
   "cell_type": "markdown",
   "id": "9a2992b6",
   "metadata": {},
   "source": [
    "### Bodybuilder"
   ]
  },
  {
   "cell_type": "code",
   "execution_count": 297,
   "id": "1a093bd1",
   "metadata": {},
   "outputs": [],
   "source": [
    "class bodybuilder(human):\n",
    "    def __init__(self, name, height, strength):\n",
    "        super().__init__(name, height)\n",
    "        self.strength = strength\n",
    "    \n",
    "    def early_bird(self):\n",
    "        return True\n",
    "    \n",
    "    def introduce(self):\n",
    "        return 'You don\\'t need to know my name! You just need to know that I have a strength of {}!'\\\n",
    "        .format(self.strength)\n",
    "    \n",
    "    def __add__(self,other):\n",
    "        return self.strength+other.strength\n",
    "    \n",
    "    def __str__(self):\n",
    "        return 'You are not ' + self.name"
   ]
  },
  {
   "cell_type": "code",
   "execution_count": 298,
   "id": "538fea8a",
   "metadata": {},
   "outputs": [],
   "source": [
    "chad=bodybuilder('chad',130,100)"
   ]
  },
  {
   "cell_type": "code",
   "execution_count": 299,
   "id": "aff6ddd5",
   "metadata": {},
   "outputs": [
    {
     "name": "stdout",
     "output_type": "stream",
     "text": [
      "{'name': 'chad', 'height': 130, 'strength': 100}\n"
     ]
    }
   ],
   "source": [
    "print(chad.__dict__)"
   ]
  },
  {
   "cell_type": "code",
   "execution_count": 300,
   "id": "bce7c4b7",
   "metadata": {},
   "outputs": [
    {
     "name": "stdout",
     "output_type": "stream",
     "text": [
      "You don't need to know my name! You just need to know that I have a strength of 100!\n"
     ]
    }
   ],
   "source": [
    "print(chad.introduce())"
   ]
  },
  {
   "cell_type": "code",
   "execution_count": 301,
   "id": "349220c8",
   "metadata": {},
   "outputs": [],
   "source": [
    "thad=bodybuilder('that',150,1000)"
   ]
  },
  {
   "cell_type": "code",
   "execution_count": 302,
   "id": "0d116268",
   "metadata": {},
   "outputs": [
    {
     "name": "stdout",
     "output_type": "stream",
     "text": [
      "1100\n"
     ]
    }
   ],
   "source": [
    "print(chad+thad)"
   ]
  },
  {
   "cell_type": "code",
   "execution_count": null,
   "id": "e5c7c37f",
   "metadata": {},
   "outputs": [],
   "source": [
    "print(chad)"
   ]
  },
  {
   "cell_type": "markdown",
   "id": "43676cbe",
   "metadata": {},
   "source": [
    "### Polymorphism (student and bodybuilder)"
   ]
  },
  {
   "cell_type": "code",
   "execution_count": 307,
   "id": "c630d168",
   "metadata": {},
   "outputs": [
    {
     "name": "stdout",
     "output_type": "stream",
     "text": [
      "True\n"
     ]
    }
   ],
   "source": [
    "print(chad.early_bird())"
   ]
  },
  {
   "cell_type": "code",
   "execution_count": 316,
   "id": "d586788a",
   "metadata": {},
   "outputs": [
    {
     "name": "stdout",
     "output_type": "stream",
     "text": [
      "False\n"
     ]
    }
   ],
   "source": [
    "print(claire.early_bird())"
   ]
  },
  {
   "cell_type": "code",
   "execution_count": 320,
   "id": "e00a71fd",
   "metadata": {},
   "outputs": [],
   "source": [
    "def do_you_wake_up_early(human):\n",
    "    return human.early_bird()"
   ]
  },
  {
   "cell_type": "code",
   "execution_count": 321,
   "id": "68f9c9ea",
   "metadata": {},
   "outputs": [
    {
     "name": "stdout",
     "output_type": "stream",
     "text": [
      "True\n"
     ]
    }
   ],
   "source": [
    "print(do_you_wake_up_early(chad))"
   ]
  },
  {
   "cell_type": "code",
   "execution_count": 322,
   "id": "300482c8",
   "metadata": {},
   "outputs": [
    {
     "name": "stdout",
     "output_type": "stream",
     "text": [
      "False\n"
     ]
    }
   ],
   "source": [
    "print(do_you_wake_up_early(claire))"
   ]
  },
  {
   "cell_type": "markdown",
   "id": "07d1f9d7",
   "metadata": {},
   "source": [
    "### get a random number"
   ]
  },
  {
   "cell_type": "code",
   "execution_count": 323,
   "id": "ff3c2336",
   "metadata": {},
   "outputs": [],
   "source": [
    "import random"
   ]
  },
  {
   "cell_type": "code",
   "execution_count": 326,
   "id": "3d3615d7",
   "metadata": {},
   "outputs": [
    {
     "name": "stdout",
     "output_type": "stream",
     "text": [
      "7\n"
     ]
    }
   ],
   "source": [
    "print(random.randint(1,10))"
   ]
  },
  {
   "cell_type": "markdown",
   "id": "b0a23d79",
   "metadata": {},
   "source": [
    "### The fighters"
   ]
  },
  {
   "cell_type": "code",
   "execution_count": 328,
   "id": "7cacc30c",
   "metadata": {},
   "outputs": [
    {
     "ename": "SyntaxError",
     "evalue": "invalid character '‘' (U+2018) (2768620216.py, line 7)",
     "output_type": "error",
     "traceback": [
      "\u001b[0;36m  File \u001b[0;32m\"/var/folders/jj/069cjw895_l8nngb42l0qm4w0000gp/T/ipykernel_4871/2768620216.py\"\u001b[0;36m, line \u001b[0;32m7\u001b[0m\n\u001b[0;31m    print(‘’'My name is {}, I will defeat you and leave you in the dust!!\u001b[0m\n\u001b[0m          ^\u001b[0m\n\u001b[0;31mSyntaxError\u001b[0m\u001b[0;31m:\u001b[0m invalid character '‘' (U+2018)\n"
     ]
    }
   ],
   "source": [
    "class fighter(human):\n",
    "    def __init__(self,name, health,attack, defence):\n",
    "        super().__init__(name)\n",
    "        self.health = health\n",
    "        self.attack = attack\n",
    "        self.defence = defence\n",
    "        print(‘’'My name is {}, I will defeat you and leave you in the dust!!\n",
    "        My attack is {} and my defence is {}!!‘’'.format(self.name,self.attack, self.defence))\n",
    "    def  bloodbath (self, other):\n",
    "        import random\n",
    "        while self.health>0 and other.health>0:\n",
    "            f1 = int(input(‘1.Attack or 2.Defend??’))\n",
    "            f2 = int(input(‘1.Attack or 2.Defend??‘))\n",
    "            print(‘{} has a health of {}!‘.format(self.name,self.health))\n",
    "            print(‘{} has a health of {}!‘.format(other.name,other.health))\n",
    "            #if f1 == 1:\n",
    "                #self.attack = f1\n",
    "            #elif f1 == 2:\n",
    "                #self.defence = f1\n",
    "            #if f2 == 1:\n",
    "                #other.attack = f2\n",
    "            #elif f2 == 2:\n",
    "                #other.defence = f2\n",
    "            if f1 ==1 and f2==1:\n",
    "                self.health = self.health - (other.attack*10)\n",
    "                other.health = other.health - (self.attack*10)\n",
    "                return self.health, other.health\n",
    "            elif f1 ==1 and f2==2:\n",
    "                roll = random.randint(1,10)\n",
    "                roll2 = random.randint(1,10)\n",
    "                print(‘{} roll 1, {} roll 2’.format(roll,roll2))\n",
    "                if roll <= self.attack:\n",
    "                    if roll2 <= other.defence:\n",
    "                        fight1= self.attack-other.defence\n",
    "                        if fight1 >0:\n",
    "                            other.health = other.health - (self.attack*10)\n",
    "                            print(‘Hope you liking my knife in your ribs!’)\n",
    "                            return other.health\n",
    "                        else:\n",
    "                            print('Ha! Easy defend!')\n",
    "                    else:\n",
    "                        other.health = other.health - (self.attack*10)\n",
    "                        print('Hope you liking my knife in your ribs!')\n",
    "                        return other.health\n",
    "                else:\n",
    "                    print('Ha! Easy defend!')\n",
    "            elif f1==2 and f2==1:\n",
    "                roll = random.randint(1,10)\n",
    "                roll2 = random.randint(1,10)\n",
    "                print(‘{} roll 1, {} roll 2’.format(roll,roll2))\n",
    "                if roll <= other.attack:\n",
    "                    if roll2 <= self.defence:\n",
    "                        fight1= other.attack-self.defence\n",
    "                        if fight1 >0:\n",
    "                            self.health = self.health - (other.attack*10)\n",
    "                            print('You my teacher, but it is WAR!!')\n",
    "                            return self.health\n",
    "                        else:\n",
    "                            print('Get back to studing python, SON!')\n",
    "                    else:\n",
    "                        self.health = self.health - (other.attack*10)\n",
    "                        print('You my teacher, but it is WAR!!')\n",
    "                        return self.health\n",
    "                else:\n",
    "                    print('Get back to studing python, SON!')\n",
    "            else:\n",
    "                print('Well this is awkward..')\n",
    "        else:\n",
    "            if self.health == 0:\n",
    "                print('Student beats the teacher! Flawless victory!')\n",
    "                print('{} has a health of {}!'.format(self.name,self.health))\n",
    "                print('{} has a health of {}!'.format(other.name,other.health))\n",
    "            else:\n",
    "                print('Teacher schools the student! Sends him back to preschool!)\n",
    "                print('{} has a health of {}!'.format(self.name,self.health))\n",
    "                print('{} has a health of {}!'.format(other.name,other.health))"
   ]
  },
  {
   "cell_type": "code",
   "execution_count": null,
   "id": "37c111d5",
   "metadata": {},
   "outputs": [],
   "source": []
  }
 ],
 "metadata": {
  "kernelspec": {
   "display_name": "Python 3 (ipykernel)",
   "language": "python",
   "name": "python3"
  },
  "language_info": {
   "codemirror_mode": {
    "name": "ipython",
    "version": 3
   },
   "file_extension": ".py",
   "mimetype": "text/x-python",
   "name": "python",
   "nbconvert_exporter": "python",
   "pygments_lexer": "ipython3",
   "version": "3.9.7"
  }
 },
 "nbformat": 4,
 "nbformat_minor": 5
}
