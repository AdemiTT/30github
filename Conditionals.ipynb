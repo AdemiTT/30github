{
 "cells": [
  {
   "cell_type": "markdown",
   "id": "16fba1f0",
   "metadata": {},
   "source": [
    "### Refresher"
   ]
  },
  {
   "cell_type": "code",
   "execution_count": null,
   "id": "18440fd8",
   "metadata": {},
   "outputs": [],
   "source": [
    "### Take minutes and convert to whole hours and remaining minutes\n",
    "\n",
    "# 1) user input\n",
    "# 2) whole hours -> floor division //\n",
    "# 3) reminaing minutes -> modulo %\n",
    "\n",
    "minute_input = input('Tell me how many minutes!')\n"
   ]
  },
  {
   "cell_type": "markdown",
   "id": "8b44d355",
   "metadata": {},
   "source": [
    "### Netflix Kids Examples"
   ]
  },
  {
   "cell_type": "code",
   "execution_count": null,
   "id": "b1f24b98",
   "metadata": {},
   "outputs": [],
   "source": [
    "if conditional statement:\n",
    "    conditional block code \n",
    "some other code"
   ]
  },
  {
   "cell_type": "code",
   "execution_count": 2,
   "id": "dc7a696a",
   "metadata": {},
   "outputs": [
    {
     "name": "stdout",
     "output_type": "stream",
     "text": [
      "Welcome to Netflix Kids!\n"
     ]
    }
   ],
   "source": [
    "if 1==1:\n",
    "    print(\"Welcome to Netflix Kids!\")"
   ]
  },
  {
   "cell_type": "code",
   "execution_count": 3,
   "id": "3b26483d",
   "metadata": {},
   "outputs": [],
   "source": [
    "if 1==2:\n",
    "    print(\"Welcome to Netflix Kids!\")"
   ]
  },
  {
   "cell_type": "code",
   "execution_count": 4,
   "id": "8d85ba90",
   "metadata": {},
   "outputs": [
    {
     "name": "stdout",
     "output_type": "stream",
     "text": [
      "Welcome to Netflix Kids!\n",
      "Please enjoy your time, but be sure to take breaks!\n"
     ]
    }
   ],
   "source": [
    "if 1==1:\n",
    "    print('Welcome to Netflix Kids!')\n",
    "    print('Please enjoy your time, but be sure to take breaks!')"
   ]
  },
  {
   "cell_type": "code",
   "execution_count": 5,
   "id": "3a2d15c7",
   "metadata": {},
   "outputs": [],
   "source": [
    "if 1==2:\n",
    "    print('Welcome to Netflix Kids!')\n",
    "    print('Please enjoy your time, but be sure to take breaks!')"
   ]
  },
  {
   "cell_type": "code",
   "execution_count": 6,
   "id": "187152d1",
   "metadata": {},
   "outputs": [
    {
     "name": "stdout",
     "output_type": "stream",
     "text": [
      "Welcome to Netflix Kids!\n",
      "Please enjoy your time, but be sure to take breaks!\n"
     ]
    }
   ],
   "source": [
    "if 1==1:\n",
    "    print('Welcome to Netflix Kids!')\n",
    "print('Please enjoy your time, but be sure to take breaks!')"
   ]
  },
  {
   "cell_type": "code",
   "execution_count": 7,
   "id": "0473b7ec",
   "metadata": {},
   "outputs": [
    {
     "name": "stdout",
     "output_type": "stream",
     "text": [
      "Please enjoy your time, but be sure to take breaks!\n"
     ]
    }
   ],
   "source": [
    "if 1==2:\n",
    "    print('Welcome to Netflix Kids!')\n",
    "print('Please enjoy your time, but be sure to take breaks!')"
   ]
  },
  {
   "cell_type": "code",
   "execution_count": 9,
   "id": "346e9393",
   "metadata": {},
   "outputs": [
    {
     "name": "stdout",
     "output_type": "stream",
     "text": [
      "How old are you?55\n",
      "Please enjoy your time, but be sure to take breaks!\n"
     ]
    }
   ],
   "source": [
    "user_age=int(input('How old are you?'))\n",
    "\n",
    "if user_age<16:\n",
    "    print('Welcome to Netflix Kids!')\n",
    "\n",
    "print('Please enjoy your time, but be sure to take breaks!')"
   ]
  },
  {
   "cell_type": "markdown",
   "id": "9210e162",
   "metadata": {},
   "source": [
    "### write an amusement park greeting program"
   ]
  },
  {
   "cell_type": "code",
   "execution_count": null,
   "id": "631883c7",
   "metadata": {},
   "outputs": [],
   "source": [
    "conditional statement and conditional or conditional"
   ]
  },
  {
   "cell_type": "code",
   "execution_count": 14,
   "id": "5feeffea",
   "metadata": {},
   "outputs": [
    {
     "name": "stdout",
     "output_type": "stream",
     "text": [
      "So glad to hear that!\n"
     ]
    }
   ],
   "source": [
    "user_mood='happy'\n",
    "\n",
    "if user_mood=='sad':\n",
    "    print('I\\'m sorry to hear that')\n",
    "\n",
    "if user_mood=='happy':\n",
    "    print('So glad to hear that!')"
   ]
  },
  {
   "cell_type": "code",
   "execution_count": 19,
   "id": "100409f6",
   "metadata": {},
   "outputs": [
    {
     "name": "stdout",
     "output_type": "stream",
     "text": [
      "I'm sorry to hear that\n"
     ]
    }
   ],
   "source": [
    "user_mood='sad'\n",
    "\n",
    "if user_mood=='sad':\n",
    "    print('I\\'m sorry to hear that')\n",
    "else:\n",
    "    print('I am glad you\\'re not sad!')"
   ]
  },
  {
   "cell_type": "code",
   "execution_count": 26,
   "id": "0d1e20eb",
   "metadata": {},
   "outputs": [
    {
     "name": "stdout",
     "output_type": "stream",
     "text": [
      "I'm so glad you are joyous!\n"
     ]
    }
   ],
   "source": [
    "user_mood='excited'\n",
    "\n",
    "if user_mood=='sad':\n",
    "    print('I\\'m sorry to hear that')\n",
    "elif user_mood=='happy' or user_mood=='excited':\n",
    "    print('I\\'m so glad you are joyous!')\n",
    "elif user_mood=='frustrated':\n",
    "    print('You\\'re going to love our punching bag game! It\\'s only $5 a play!')\n",
    "else:\n",
    "    print('I don\\'t know that feeling. I am a robot and have no feelings. :\\'(')"
   ]
  },
  {
   "cell_type": "code",
   "execution_count": 27,
   "id": "5f47851f",
   "metadata": {},
   "outputs": [
    {
     "name": "stdout",
     "output_type": "stream",
     "text": [
      "How you feel?ok\n",
      "You in a right place!\n"
     ]
    }
   ],
   "source": [
    "mood = input('How you feel?')\n",
    "if mood == 'sad':\n",
    "    print(\"I hope you will feel better soon!\")\n",
    "elif mood == 'happy':\n",
    "    print('I am glad you are happy!')\n",
    "elif mood == 'excited':\n",
    "    print('You will love it here!')\n",
    "elif mood == 'great' or 'cool':\n",
    "    print('You in a right place!')\n",
    "else:\n",
    "    print('Enjoy your time in the park!')"
   ]
  },
  {
   "cell_type": "code",
   "execution_count": null,
   "id": "7e5560b5",
   "metadata": {},
   "outputs": [],
   "source": [
    "mood = 'ok'\n",
    "if mood == 'sad':\n",
    "    print(\"I hope you will feel better soon!\")\n",
    "elif mood == 'happy':\n",
    "    print('I am glad you are happy!')\n",
    "elif mood == 'excited':\n",
    "    print('You will love it here!')\n",
    "elif mood == 'great' or mood == 'cool':\n",
    "    print('You in a right place!')\n",
    "else:\n",
    "    print('Enjoy your time in the park!')"
   ]
  },
  {
   "cell_type": "code",
   "execution_count": 28,
   "id": "052b1bbd",
   "metadata": {},
   "outputs": [
    {
     "data": {
      "text/plain": [
       "True"
      ]
     },
     "execution_count": 28,
     "metadata": {},
     "output_type": "execute_result"
    }
   ],
   "source": [
    "bool('cool')"
   ]
  },
  {
   "cell_type": "code",
   "execution_count": 32,
   "id": "9341b247",
   "metadata": {},
   "outputs": [
    {
     "data": {
      "text/plain": [
       "'cool'"
      ]
     },
     "execution_count": 32,
     "metadata": {},
     "output_type": "execute_result"
    }
   ],
   "source": [
    "mood='sad'\n",
    "mood=='happy' or 'cool'"
   ]
  },
  {
   "cell_type": "code",
   "execution_count": 36,
   "id": "b48a46a8",
   "metadata": {},
   "outputs": [
    {
     "name": "stdout",
     "output_type": "stream",
     "text": [
      "five is greater than two!\n"
     ]
    }
   ],
   "source": [
    "if 5>2: print(\"five is greater than two!\")"
   ]
  },
  {
   "cell_type": "markdown",
   "id": "f8e98437",
   "metadata": {},
   "source": [
    "### Single line if statement"
   ]
  },
  {
   "cell_type": "code",
   "execution_count": null,
   "id": "0d6608ad",
   "metadata": {},
   "outputs": [],
   "source": [
    "value_if_true if conditional_statement else value_if_false"
   ]
  },
  {
   "cell_type": "code",
   "execution_count": 39,
   "id": "27125331",
   "metadata": {},
   "outputs": [
    {
     "name": "stdout",
     "output_type": "stream",
     "text": [
      "the value is false\n"
     ]
    }
   ],
   "source": [
    "print(\"five is greater than two!\") if 5<2 else print(\"the value is false\")"
   ]
  },
  {
   "cell_type": "markdown",
   "id": "cb5e1a2c",
   "metadata": {},
   "source": [
    "### ATM question"
   ]
  },
  {
   "cell_type": "code",
   "execution_count": null,
   "id": "2405edbe",
   "metadata": {},
   "outputs": [],
   "source": [
    "#100,20,10,5,2,1\n",
    "\n",
    "#1) check if wholely divisible by that bill ---> //\n",
    "#2) what is the remainder -->%\n",
    "\n",
    "remainder//100\n",
    "remainder=remainder%100\n",
    "\n",
    "remainder//20\n",
    "remainder=remainder%20\n",
    "\n",
    "remainder//10\n",
    "remainder=remainder%10"
   ]
  },
  {
   "cell_type": "markdown",
   "id": "94ddea16",
   "metadata": {},
   "source": [
    "### Nested if"
   ]
  },
  {
   "cell_type": "code",
   "execution_count": 14,
   "id": "eabcb348",
   "metadata": {},
   "outputs": [
    {
     "name": "stdout",
     "output_type": "stream",
     "text": [
      "What temperature is it today?19\n",
      "How much do you currenly have with you?17\n",
      "Buy ice cream!\n"
     ]
    }
   ],
   "source": [
    "#eating ice cream\n",
    "\n",
    "weather=float(input('What temperature is it today?'))\n",
    "money=float(input('How much do you currenly have with you?'))\n",
    "\n",
    "if weather > 18:\n",
    "    if money > 5.5:\n",
    "        print('Buy ice cream!')\n",
    "    else:\n",
    "        print('You don\\'t have enough money! No ice cream for you!')\n",
    "else:\n",
    "    print(\"It is too cold! No ice cream for you!\")"
   ]
  },
  {
   "cell_type": "code",
   "execution_count": null,
   "id": "c4d5b5bb",
   "metadata": {},
   "outputs": [],
   "source": [
    "## From class discussion\n",
    "#1 Difference between series of if statements vs nested if statement. When outcomes are dependant or independant.\n",
    "#2 Avoid having true and false cases within the true block of code with from an if statement\n",
    "#3 Having a single if check two conditions vs nested if check those conditions. Computation tradeoff"
   ]
  },
  {
   "cell_type": "markdown",
   "id": "8b825810",
   "metadata": {},
   "source": [
    "### List comprehension"
   ]
  },
  {
   "cell_type": "code",
   "execution_count": 19,
   "id": "02aa1e6f",
   "metadata": {},
   "outputs": [
    {
     "name": "stdout",
     "output_type": "stream",
     "text": [
      "[0, 0, 0, 0, 4, 5]\n"
     ]
    }
   ],
   "source": [
    "# take a reference and generate a new list based on conditions\n",
    "num_list=[0,1,2,3,4,5]\n",
    "\n",
    "update_list=[my_dog_mary if my_dog_mary > 3 else 0 for my_dog_mary in num_list]\n",
    "print(update_list)"
   ]
  },
  {
   "cell_type": "code",
   "execution_count": 18,
   "id": "12ada36c",
   "metadata": {},
   "outputs": [
    {
     "name": "stdout",
     "output_type": "stream",
     "text": [
      "[0, 1, 2, 3, 4, 5]\n"
     ]
    }
   ],
   "source": [
    "print(num_list)"
   ]
  },
  {
   "cell_type": "code",
   "execution_count": null,
   "id": "9cf05f8f",
   "metadata": {},
   "outputs": [],
   "source": [
    "if my_dog_mary > 3:\n",
    "else:"
   ]
  },
  {
   "cell_type": "code",
   "execution_count": null,
   "id": "b64aa29e",
   "metadata": {},
   "outputs": [],
   "source": [
    "num_list=[0,1,2,3,4,5,6,7,8,9,10]\n",
    "odd_even_list="
   ]
  },
  {
   "cell_type": "code",
   "execution_count": 21,
   "id": "b3097c48",
   "metadata": {},
   "outputs": [
    {
     "name": "stdout",
     "output_type": "stream",
     "text": [
      "['even', 'odd', 'even', 'odd', 'even', 'odd', 'even', 'odd', 'even', 'odd', 'even']\n"
     ]
    }
   ],
   "source": [
    "num_list=[0,1,2,3,4,5,6,7,8,9,10]\n",
    "print(['even' if num%2 == 0 else 'odd' for num in num_list]"
   ]
  },
  {
   "cell_type": "code",
   "execution_count": 22,
   "id": "f1ee00fd",
   "metadata": {
    "scrolled": true
   },
   "outputs": [
    {
     "name": "stdout",
     "output_type": "stream",
     "text": [
      "[0, 1, 2, 3, 4, 5, 6, 7, 8, 9, 10]\n"
     ]
    }
   ],
   "source": [
    "print(num_list)"
   ]
  }
 ],
 "metadata": {
  "kernelspec": {
   "display_name": "Python 3 (ipykernel)",
   "language": "python",
   "name": "python3"
  },
  "language_info": {
   "codemirror_mode": {
    "name": "ipython",
    "version": 3
   },
   "file_extension": ".py",
   "mimetype": "text/x-python",
   "name": "python",
   "nbconvert_exporter": "python",
   "pygments_lexer": "ipython3",
   "version": "3.9.7"
  }
 },
 "nbformat": 4,
 "nbformat_minor": 5
}
